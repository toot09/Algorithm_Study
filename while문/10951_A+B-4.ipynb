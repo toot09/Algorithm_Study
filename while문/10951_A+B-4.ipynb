{
  "nbformat": 4,
  "nbformat_minor": 0,
  "metadata": {
    "colab": {
      "name": "Untitled19.ipynb",
      "provenance": [],
      "authorship_tag": "ABX9TyP1W1dDiK+/oeC/EyPXg2zJ",
      "include_colab_link": true
    },
    "kernelspec": {
      "name": "python3",
      "display_name": "Python 3"
    }
  },
  "cells": [
    {
      "cell_type": "markdown",
      "metadata": {
        "id": "view-in-github",
        "colab_type": "text"
      },
      "source": [
        "<a href=\"https://colab.research.google.com/github/toot09/Algorithm_Study/blob/master/while%EB%AC%B8/10951_A%2BB-4.ipynb\" target=\"_parent\"><img src=\"https://colab.research.google.com/assets/colab-badge.svg\" alt=\"Open In Colab\"/></a>"
      ]
    },
    {
      "cell_type": "markdown",
      "metadata": {
        "id": "egHrXB2AIG15",
        "colab_type": "text"
      },
      "source": [
        "# 문제\n",
        "두 정수 A와 B를 입력받은 다음, A+B를 출력하는 프로그램을 작성하시오.\n",
        "\n",
        "# 입력\n",
        "입력은 여러 개의 테스트 케이스로 이루어져 있다.\n",
        "\n",
        "각 테스트 케이스는 한 줄로 이루어져 있으며, 각 줄에 A와 B가 주어진다. (0 < A, B < 10)\n",
        "\n",
        "# 출력\n",
        "각 테스트 케이스마다 A+B를 출력한다."
      ]
    },
    {
      "cell_type": "code",
      "metadata": {
        "id": "krX-5fH7Ey-M",
        "colab_type": "code",
        "colab": {
          "base_uri": "https://localhost:8080/",
          "height": 107
        },
        "outputId": "4a4ced4c-9175-4c66-e98a-a5013c0c2e28"
      },
      "source": [
        "while(True):\n",
        "  try:\n",
        "    a, b = map(int,input().split())\n",
        "    print(a+b)\n",
        "  except:\n",
        "    break"
      ],
      "execution_count": 24,
      "outputs": [
        {
          "output_type": "stream",
          "text": [
            "1 2\n",
            "3\n",
            "3 5\n",
            "8\n",
            "\n"
          ],
          "name": "stdout"
        }
      ]
    }
  ]
}