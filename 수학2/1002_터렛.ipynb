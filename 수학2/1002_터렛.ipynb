{
  "nbformat": 4,
  "nbformat_minor": 0,
  "metadata": {
    "colab": {
      "name": "Untitled31.ipynb",
      "provenance": [],
      "authorship_tag": "ABX9TyPWIfYXEfqvmmUU2FzQn+eD",
      "include_colab_link": true
    },
    "kernelspec": {
      "name": "python3",
      "display_name": "Python 3"
    }
  },
  "cells": [
    {
      "cell_type": "markdown",
      "metadata": {
        "id": "view-in-github",
        "colab_type": "text"
      },
      "source": [
        "<a href=\"https://colab.research.google.com/github/toot09/Algorithm_Study/blob/master/%EC%88%98%ED%95%992/1002_%ED%84%B0%EB%A0%9B.ipynb\" target=\"_parent\"><img src=\"https://colab.research.google.com/assets/colab-badge.svg\" alt=\"Open In Colab\"/></a>"
      ]
    },
    {
      "cell_type": "markdown",
      "metadata": {
        "id": "fDRl8xebroF-",
        "colab_type": "text"
      },
      "source": [
        "# 문제\n",
        "조규현과 백승환은 터렛에 근무하는 직원이다. 하지만 워낙 존재감이 없어서 인구수는 차지하지 않는다. 다음은 조규현과 백승환의 사진이다.\n",
        "\n",
        "\n",
        "\n",
        "이석원은 조규현과 백승환에게 상대편 마린(류재명)의 위치를 계산하라는 명령을 내렸다. 조규현과 백승환은 각각 자신의 터렛 위치에서 현재 적까지의 거리를 계산했다.\n",
        "\n",
        "조규현의 좌표 (x1, y1)와 백승환의 좌표 (x2, y2)가 주어지고, 조규현이 계산한 류재명과의 거리 r1과 백승환이 계산한 류재명과의 거리 r2가 주어졌을 때, 류재명이 있을 수 있는 좌표의 수를 출력하는 프로그램을 작성하시오.\n",
        "\n",
        "# 입력\n",
        "첫째 줄에 테스트 케이스의 개수 T가 주어진다. 각 테스트 케이스는 다음과 같이 이루어져 있다.\n",
        "\n",
        "한 줄에 x1, y1, r1, x2, y2, r2가 주어진다. x1, y1, x2, y2는 -10,000보다 크거나 같고, 10,000보다 작거나 같은 정수이고, r1, r2는 10,000보다 작거나 같은 자연수이다.\n",
        "\n",
        "# 출력\n",
        "각 테스트 케이스마다 류재명이 있을 수 있는 위치의 수를 출력한다. 만약 류재명이 있을 수 있는 위치의 개수가 무한대일 경우에는 -1을 출력한다."
      ]
    },
    {
      "cell_type": "code",
      "metadata": {
        "id": "zqpnnZ0rrRNU",
        "colab_type": "code",
        "outputId": "68bd5700-58ab-491c-f6d9-310acc2ac211",
        "colab": {
          "base_uri": "https://localhost:8080/",
          "height": 143
        }
      },
      "source": [
        "Case = int(input())\n",
        "for _ in range(Case):\n",
        "    x_1, y_1, r_1, x_2, y_2, r_2 = list(map(int, input().split()))\n",
        "    d = ((x_1 - x_2) ** 2) + ((y_1 - y_2) ** 2)\n",
        "    # d에 제곱근을 씌우지 않았기 때문에 단위를 맞추기 위해 \n",
        "    # 비교에 주로 사용될 sum, diff를 선언하여 제곱시켜줍니다.\n",
        "    r_sum = (r_1 + r_2) ** 2\n",
        "    r_diff = (r_1 - r_2) ** 2\n",
        "\n",
        "    # 좌표가 같은 경우\n",
        "    if(d == 0):\n",
        "        # 원이 겹칠때\n",
        "        if(r_1 == r_2):\n",
        "            print(-1)\n",
        "        # 한 원이 다른 원을 포함하고 있는 경우\n",
        "        else:\n",
        "            print(0)\n",
        "    # 좌표가 달라 원이 서로 떨어져 있는 경우\n",
        "    else:\n",
        "        # 한점만 겹치는 경우\n",
        "        if((d == r_sum) or (d == r_diff)):\n",
        "            print(1)\n",
        "        # 겹치는 점이 2개인 경우\n",
        "        elif((d < r_sum) and (d > r_diff)):\n",
        "            print(2)\n",
        "        # 아예 떨어져 있는 경우\n",
        "        else:\n",
        "            print(0)"
      ],
      "execution_count": 1,
      "outputs": [
        {
          "output_type": "stream",
          "text": [
            "3\n",
            "0 0 13 40 0 37\n",
            "2\n",
            "0 0 3 0 7 4\n",
            "1\n",
            "1 1 1 1 1 5\n",
            "0\n"
          ],
          "name": "stdout"
        }
      ]
    }
  ]
}