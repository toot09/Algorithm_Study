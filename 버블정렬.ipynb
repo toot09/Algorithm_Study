{
  "nbformat": 4,
  "nbformat_minor": 0,
  "metadata": {
    "colab": {
      "name": "Untitled14.ipynb",
      "provenance": [],
      "authorship_tag": "ABX9TyP6FLNkYgLU58kNYTFg2Hgz",
      "include_colab_link": true
    },
    "kernelspec": {
      "name": "python3",
      "display_name": "Python 3"
    }
  },
  "cells": [
    {
      "cell_type": "markdown",
      "metadata": {
        "id": "view-in-github",
        "colab_type": "text"
      },
      "source": [
        "<a href=\"https://colab.research.google.com/github/toot09/Algorithm_Study/blob/master/%EB%B2%84%EB%B8%94%EC%A0%95%EB%A0%AC.ipynb\" target=\"_parent\"><img src=\"https://colab.research.google.com/assets/colab-badge.svg\" alt=\"Open In Colab\"/></a>"
      ]
    },
    {
      "cell_type": "markdown",
      "metadata": {
        "id": "gvuQDuruAg_n",
        "colab_type": "text"
      },
      "source": [
        "# 버블정렬"
      ]
    },
    {
      "cell_type": "code",
      "metadata": {
        "id": "BALBTqO1_ksK",
        "colab_type": "code",
        "colab": {
          "base_uri": "https://localhost:8080/",
          "height": 35
        },
        "outputId": "80afb242-d8d1-43ae-b135-48dece31ad2a"
      },
      "source": [
        "a = [5,1,34,6,14,7,10,3,64,-6]\n",
        "\n",
        "for i in range(len,0,-1):\n",
        "  for j in range(i-1):\n",
        "    if a[j] > a[j+1]:\n",
        "      tmp = a[j]\n",
        "      a[j] = a[j+1]\n",
        "      a[j+1] = tmp\n",
        "\n",
        "print(a)\n"
      ],
      "execution_count": 37,
      "outputs": [
        {
          "output_type": "stream",
          "text": [
            "[-6, 1, 3, 5, 6, 7, 10, 14, 34, 64]\n"
          ],
          "name": "stdout"
        }
      ]
    }
  ]
}