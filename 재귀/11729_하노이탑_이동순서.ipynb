{
  "nbformat": 4,
  "nbformat_minor": 0,
  "metadata": {
    "colab": {
      "name": "백준테스트파일.ipynb",
      "provenance": [],
      "collapsed_sections": [],
      "authorship_tag": "ABX9TyPoDwrB8sBEyHnFoZStbh0z",
      "include_colab_link": true
    },
    "kernelspec": {
      "name": "python3",
      "display_name": "Python 3"
    }
  },
  "cells": [
    {
      "cell_type": "markdown",
      "metadata": {
        "id": "view-in-github",
        "colab_type": "text"
      },
      "source": [
        "<a href=\"https://colab.research.google.com/github/toot09/Algorithm_Study/blob/master/%EC%9E%AC%EA%B7%80/11729_%ED%95%98%EB%85%B8%EC%9D%B4%ED%83%91_%EC%9D%B4%EB%8F%99%EC%88%9C%EC%84%9C.ipynb\" target=\"_parent\"><img src=\"https://colab.research.google.com/assets/colab-badge.svg\" alt=\"Open In Colab\"/></a>"
      ]
    },
    {
      "cell_type": "markdown",
      "metadata": {
        "id": "0vxcyhbFQ4oN",
        "colab_type": "text"
      },
      "source": [
        "# 하노이 탑 이동 순서\n",
        "시간 제한\t메모리 제한\t제출\t정답\t맞은 사람\t정답 비율\n",
        "1 초\t256 MB\t17799\t8628\t6734\t48.537%\n",
        "# 문제\n",
        "세 개의 장대가 있고 첫 번째 장대에는 반경이 서로 다른 n개의 원판이 쌓여 있다. 각 원판은 반경이 큰 순서대로 쌓여있다. 이제 수도승들이 다음 규칙에 따라 첫 번째 장대에서 세 번째 장대로 옮기려 한다.\n",
        "\n",
        "한 번에 한 개의 원판만을 다른 탑으로 옮길 수 있다.\n",
        "쌓아 놓은 원판은 항상 위의 것이 아래의 것보다 작아야 한다.\n",
        "이 작업을 수행하는데 필요한 이동 순서를 출력하는 프로그램을 작성하라. 단, 이동 횟수는 최소가 되어야 한다.\n",
        "\n",
        "아래 그림은 원판이 5개인 경우의 예시이다.\n",
        "# 입력\n",
        "첫째 줄에 첫 번째 장대에 쌓인 원판의 개수 N (1 ≤ N ≤ 20)이 주어진다."
      ]
    },
    {
      "cell_type": "code",
      "metadata": {
        "id": "ZdgDcJlt29HN",
        "colab_type": "code",
        "outputId": "7f6e1400-4397-4e6c-c7b7-5536223be046",
        "colab": {
          "base_uri": "https://localhost:8080/",
          "height": 611
        }
      },
      "source": [
        "def hanoi(n,start,other,end):\n",
        "  if n == 0:\n",
        "    return None\n",
        "  hanoi(n-1,start,end,other)\n",
        "  print(start,end)\n",
        "  hanoi(n-1,other,start,end)\n",
        "\n",
        "x = int(input())\n",
        "print(2**x-1)\n",
        "hanoi(x,1,2,3)"
      ],
      "execution_count": 25,
      "outputs": [
        {
          "output_type": "stream",
          "text": [
            "5\n",
            "31\n",
            "1 3\n",
            "1 2\n",
            "3 2\n",
            "1 3\n",
            "2 1\n",
            "2 3\n",
            "1 3\n",
            "1 2\n",
            "3 2\n",
            "3 1\n",
            "2 1\n",
            "3 2\n",
            "1 3\n",
            "1 2\n",
            "3 2\n",
            "1 3\n",
            "2 1\n",
            "2 3\n",
            "1 3\n",
            "2 1\n",
            "3 2\n",
            "3 1\n",
            "2 1\n",
            "2 3\n",
            "1 3\n",
            "1 2\n",
            "3 2\n",
            "1 3\n",
            "2 1\n",
            "2 3\n",
            "1 3\n"
          ],
          "name": "stdout"
        }
      ]
    }
  ]
}