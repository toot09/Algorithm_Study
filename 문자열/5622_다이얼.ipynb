{
  "nbformat": 4,
  "nbformat_minor": 0,
  "metadata": {
    "colab": {
      "name": "Untitled22.ipynb",
      "provenance": [],
      "authorship_tag": "ABX9TyOTkhjeo0N+RVxNxN4a1UdK",
      "include_colab_link": true
    },
    "kernelspec": {
      "name": "python3",
      "display_name": "Python 3"
    }
  },
  "cells": [
    {
      "cell_type": "markdown",
      "metadata": {
        "id": "view-in-github",
        "colab_type": "text"
      },
      "source": [
        "<a href=\"https://colab.research.google.com/github/toot09/Algorithm_Study/blob/master/%EB%AC%B8%EC%9E%90%EC%97%B4/5622_%EB%8B%A4%EC%9D%B4%EC%96%BC.ipynb\" target=\"_parent\"><img src=\"https://colab.research.google.com/assets/colab-badge.svg\" alt=\"Open In Colab\"/></a>"
      ]
    },
    {
      "cell_type": "markdown",
      "metadata": {
        "id": "RhP8-A_BOfPD",
        "colab_type": "text"
      },
      "source": [
        "# 문제\n",
        "상근이의 할머니는 아래 그림과 같이 오래된 다이얼 전화기를 사용한다.\n",
        "전화를 걸고 싶은 번호가 있다면, 숫자를 하나를 누른 다음에 금속 핀이 있는 곳 까지 시계방향으로 돌려야 한다. 숫자를 하나 누르면 다이얼이 처음 위치로 돌아가고, 다음 숫자를 누르려면 다이얼을 처음 위치에서 다시 돌려야 한다.\n",
        "\n",
        "숫자 1을 걸려면 총 2초가 필요하다. 1보다 큰 수를 거는데 걸리는 시간은 이보다 더 걸리며, 한 칸 옆에 있는 숫자를 걸기 위해선 1초씩 더 걸린다.\n",
        "\n",
        "상근이의 할머니는 전화 번호를 각 숫자에 해당하는 문자로 외운다. 즉, 어떤 단어를 걸 때, 각 알파벳에 해당하는 숫자를 걸면 된다. 예를 들어, UNUCIC는 868242와 같다.\n",
        "\n",
        "할머니가 외운 단어가 주어졌을 때, 이 전화를 걸기 위해서 필요한 시간을 구하는 프로그램을 작성하시오.\n",
        "\n",
        "# 입력\n",
        "첫째 줄에 알파벳 대문자로 이루어진 단어가 주어진다. 단어는 2글자~15글자로 이루어져 있다.\n",
        "\n",
        "# 출력\n",
        "첫째 줄에 다이얼을 걸기 위해서 필요한 시간을 출력한다."
      ]
    },
    {
      "cell_type": "code",
      "metadata": {
        "id": "FIUuKle9LvQL",
        "colab_type": "code",
        "outputId": "de070194-7193-4f30-c3fc-604246d8865a",
        "colab": {
          "base_uri": "https://localhost:8080/",
          "height": 53
        }
      },
      "source": [
        "s = input()\n",
        "time = 0\n",
        "for i in s:\n",
        "  if ord('A') <= ord(i) and  ord(i) <= ord('O'):\n",
        "    time += (int((ord(i)-ord('A'))/3)+2)*2\n",
        "  elif ord('P') <= ord(i) and  ord(i) <= ord('S'):\n",
        "    time += 7*2\n",
        "  elif i == 'Z':\n",
        "    time += 9*2\n",
        "  else:\n",
        "    time += (int((ord(i)-ord('T'))/3)+2)*2\n",
        "print(time)"
      ],
      "execution_count": 22,
      "outputs": [
        {
          "output_type": "stream",
          "text": [
            "UNUCICZ\n",
            "54\n"
          ],
          "name": "stdout"
        }
      ]
    }
  ]
}