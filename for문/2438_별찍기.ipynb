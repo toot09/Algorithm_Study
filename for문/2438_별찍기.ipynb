{
  "nbformat": 4,
  "nbformat_minor": 0,
  "metadata": {
    "colab": {
      "name": "Untitled16.ipynb",
      "provenance": [],
      "authorship_tag": "ABX9TyNrBS9Hdy+gxl+76XS40Qvv",
      "include_colab_link": true
    },
    "kernelspec": {
      "name": "python3",
      "display_name": "Python 3"
    }
  },
  "cells": [
    {
      "cell_type": "markdown",
      "metadata": {
        "id": "view-in-github",
        "colab_type": "text"
      },
      "source": [
        "<a href=\"https://colab.research.google.com/github/toot09/Algorithm_Study/blob/master/for%EB%AC%B8/2438_%EB%B3%84%EC%B0%8D%EA%B8%B0.ipynb\" target=\"_parent\"><img src=\"https://colab.research.google.com/assets/colab-badge.svg\" alt=\"Open In Colab\"/></a>"
      ]
    },
    {
      "cell_type": "markdown",
      "metadata": {
        "id": "mTA-UMDLmTJO",
        "colab_type": "text"
      },
      "source": [
        "# 문제\n",
        "첫째 줄에는 별 1개, 둘째 줄에는 별 2개, N번째 줄에는 별 N개를 찍는 문제\n",
        "\n",
        "# 입력\n",
        "첫째 줄에 N(1 ≤ N ≤ 100)이 주어진다.\n",
        "\n",
        "# 출력\n",
        "첫째 줄부터 N번째 줄까지 차례대로 별을 출력한다."
      ]
    },
    {
      "cell_type": "code",
      "metadata": {
        "id": "PbBmH1SamMRC",
        "colab_type": "code",
        "colab": {
          "base_uri": "https://localhost:8080/",
          "height": 125
        },
        "outputId": "95fc5ac8-4d6a-49c4-d0a2-2c539ffafd8c"
      },
      "source": [
        "x = int(input())\n",
        "for i in range(x):\n",
        "  for j in range(i):\n",
        "    print('*',end='')\n",
        "  print()"
      ],
      "execution_count": 48,
      "outputs": [
        {
          "output_type": "stream",
          "text": [
            "5\n",
            "\n",
            "*\n",
            "**\n",
            "***\n",
            "****\n"
          ],
          "name": "stdout"
        }
      ]
    }
  ]
}