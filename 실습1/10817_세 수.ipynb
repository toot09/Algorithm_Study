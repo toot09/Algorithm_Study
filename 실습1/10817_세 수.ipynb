{
  "nbformat": 4,
  "nbformat_minor": 0,
  "metadata": {
    "colab": {
      "name": "Untitled19.ipynb",
      "provenance": [],
      "authorship_tag": "ABX9TyOw9fTMinkUq1eq/VuOjTbK",
      "include_colab_link": true
    },
    "kernelspec": {
      "name": "python3",
      "display_name": "Python 3"
    }
  },
  "cells": [
    {
      "cell_type": "markdown",
      "metadata": {
        "id": "view-in-github",
        "colab_type": "text"
      },
      "source": [
        "<a href=\"https://colab.research.google.com/github/toot09/Algorithm_Study/blob/master/%EC%8B%A4%EC%8A%B51/10817_%EC%84%B8%20%EC%88%98.ipynb\" target=\"_parent\"><img src=\"https://colab.research.google.com/assets/colab-badge.svg\" alt=\"Open In Colab\"/></a>"
      ]
    },
    {
      "cell_type": "markdown",
      "metadata": {
        "id": "egHrXB2AIG15",
        "colab_type": "text"
      },
      "source": [
        "#문제\n",
        "세 정수 A, B, C가 주어진다. 이때, 두 번째로 큰 정수를 출력하는 프로그램을 작성하시오. \n",
        "\n",
        "#입력\n",
        "첫째 줄에 세 정수 A, B, C가 공백으로 구분되어 주어진다. (1 ≤ A, B, C ≤ 100)\n",
        "\n",
        "#출력\n",
        "두 번째로 큰 정수를 출력한다."
      ]
    },
    {
      "cell_type": "code",
      "metadata": {
        "id": "vZQ_fz3K507k",
        "colab_type": "code",
        "colab": {
          "base_uri": "https://localhost:8080/",
          "height": 53
        },
        "outputId": "764e8c13-0180-4007-ab14-db0affe8c55d"
      },
      "source": [
        "a,b,c = map(int,input().split())\n",
        "if a >= b:\n",
        "  if c >= a:\n",
        "    print(a)\n",
        "  elif b >= c:\n",
        "    print(b)\n",
        "  else:\n",
        "    print(c)\n",
        "else: #a<b\n",
        "  if b<=c:\n",
        "    print(b)\n",
        "  elif a<=c:\n",
        "    print(c)\n",
        "  else:\n",
        "    print(a)"
      ],
      "execution_count": 67,
      "outputs": [
        {
          "output_type": "stream",
          "text": [
            "20 10 10\n",
            "10\n"
          ],
          "name": "stdout"
        }
      ]
    },
    {
      "cell_type": "code",
      "metadata": {
        "id": "t4LAnNPn7Qcx",
        "colab_type": "code",
        "colab": {
          "base_uri": "https://localhost:8080/",
          "height": 53
        },
        "outputId": "f582b998-bafa-4e60-ae34-4f1a17f5ff47"
      },
      "source": [
        "a = list(map(int,input().split()))\n",
        "a.sort()\n",
        "print(a[-2])"
      ],
      "execution_count": 74,
      "outputs": [
        {
          "output_type": "stream",
          "text": [
            "20 10 10\n",
            "10\n"
          ],
          "name": "stdout"
        }
      ]
    },
    {
      "cell_type": "code",
      "metadata": {
        "id": "krX-5fH7Ey-M",
        "colab_type": "code",
        "colab": {
          "base_uri": "https://localhost:8080/",
          "height": 53
        },
        "outputId": "cc6419f4-587d-4542-b2e2-1e45f7f9732a"
      },
      "source": [
        "def quickSort(a,start,end):\n",
        "  if(start>=end):\n",
        "    return\n",
        "  i = start + 1\n",
        "  j = end\n",
        "  key = start\n",
        "  while(i<=j):\n",
        "    while(a[i]<=a[key] and i < end):\n",
        "      i = i + 1\n",
        "    while(a[j]>=a[key] and j > start):\n",
        "      j = j - 1\n",
        "    if(i<=j):\n",
        "      a[i], a[j] = a[j], a[i]\n",
        "    else:\n",
        "      a[j], a[key] = a[key], a[j]\n",
        "  quickSort(a,start,j-1)\n",
        "  quickSort(a,j+1,end)\n",
        "\n",
        "a = list(map(int,input().split()))\n",
        "quickSort(a,0,len(a)-1)\n",
        "print(a[len(a)-2])"
      ],
      "execution_count": 61,
      "outputs": [
        {
          "output_type": "stream",
          "text": [
            "10 203 10 203 293 19\n",
            "203\n"
          ],
          "name": "stdout"
        }
      ]
    }
  ]
}