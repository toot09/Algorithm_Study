{
  "nbformat": 4,
  "nbformat_minor": 0,
  "metadata": {
    "colab": {
      "name": "Untitled19.ipynb",
      "provenance": [],
      "authorship_tag": "ABX9TyM750BUegl78o3hu9vaGaql",
      "include_colab_link": true
    },
    "kernelspec": {
      "name": "python3",
      "display_name": "Python 3"
    }
  },
  "cells": [
    {
      "cell_type": "markdown",
      "metadata": {
        "id": "view-in-github",
        "colab_type": "text"
      },
      "source": [
        "<a href=\"https://colab.research.google.com/github/toot09/Algorithm_Study/blob/master/while%EB%AC%B8/1110_%EB%8D%94%ED%95%98%EA%B8%B0%EC%82%AC%EC%9D%B4%ED%81%B4.ipynb\" target=\"_parent\"><img src=\"https://colab.research.google.com/assets/colab-badge.svg\" alt=\"Open In Colab\"/></a>"
      ]
    },
    {
      "cell_type": "markdown",
      "metadata": {
        "id": "egHrXB2AIG15",
        "colab_type": "text"
      },
      "source": [
        "# 문제\n",
        "0보다 크거나 같고, 99보다 작거나 같은 정수가 주어질 때 다음과 같은 연산을 할 수 있다. 먼저 주어진 수가 10보다 작다면 앞에 0을 붙여 두 자리 수로 만들고, 각 자리의 숫자를 더한다. 그 다음, 주어진 수의 가장 오른쪽 자리 수와 앞에서 구한 합의 가장 오른쪽 자리 수를 이어 붙이면 새로운 수를 만들 수 있다. 다음 예를 보자.\n",
        "\n",
        "26부터 시작한다. 2+6 = 8이다. 새로운 수는 68이다. 6+8 = 14이다. 새로운 수는 84이다. 8+4 = 12이다. 새로운 수는 42이다. 4+2 = 6이다. 새로운 수는 26이다.\n",
        "\n",
        "위의 예는 4번만에 원래 수로 돌아올 수 있다. 따라서 26의 사이클의 길이는 4이다.\n",
        "\n",
        "N이 주어졌을 때, N의 사이클의 길이를 구하는 프로그램을 작성하시오.\n",
        "\n",
        "# 입력\n",
        "첫째 줄에 N이 주어진다. N은 0보다 크거나 같고, 99보다 작거나 같은 정수이다.\n",
        "\n",
        "# 출력\n",
        "첫째 줄에 N의 사이클 길이를 출력한다."
      ]
    },
    {
      "cell_type": "code",
      "metadata": {
        "id": "krX-5fH7Ey-M",
        "colab_type": "code",
        "colab": {
          "base_uri": "https://localhost:8080/",
          "height": 53
        },
        "outputId": "4eefe230-25ed-417e-accb-9e2311b865f7"
      },
      "source": [
        "x = int(input())\n",
        "org = x\n",
        "i = 0\n",
        "while(True):\n",
        "  if(x<10):\n",
        "    a = x\n",
        "    b = x\n",
        "  else:\n",
        "    a = (x%10 + int(x/10))%10\n",
        "    b = x%10\n",
        "  x = b*10 + a\n",
        "  i = i + 1\n",
        "  if x == org:\n",
        "    break\n",
        "print(i)"
      ],
      "execution_count": 35,
      "outputs": [
        {
          "output_type": "stream",
          "text": [
            "1\n",
            "60\n"
          ],
          "name": "stdout"
        }
      ]
    }
  ]
}