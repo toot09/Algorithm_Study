{
  "nbformat": 4,
  "nbformat_minor": 0,
  "metadata": {
    "colab": {
      "name": "Untitled31.ipynb",
      "provenance": [],
      "authorship_tag": "ABX9TyMdIZTG+ZbJ+AExQbBlskkX",
      "include_colab_link": true
    },
    "kernelspec": {
      "name": "python3",
      "display_name": "Python 3"
    }
  },
  "cells": [
    {
      "cell_type": "markdown",
      "metadata": {
        "id": "view-in-github",
        "colab_type": "text"
      },
      "source": [
        "<a href=\"https://colab.research.google.com/github/toot09/Algorithm_Study/blob/master/%EC%88%98%ED%95%992/3053_%ED%83%9D%EC%8B%9C%EA%B8%B0%ED%95%98%ED%95%99.ipynb\" target=\"_parent\"><img src=\"https://colab.research.google.com/assets/colab-badge.svg\" alt=\"Open In Colab\"/></a>"
      ]
    },
    {
      "cell_type": "markdown",
      "metadata": {
        "id": "fDRl8xebroF-",
        "colab_type": "text"
      },
      "source": [
        "# 문제\n",
        "19세기 독일 수학자 헤르만 민코프스키는 비유클리드 기하학 중 택시 기하학을 고안했다.\n",
        "\n",
        "택시 기하학에서 두 점 T1(x1,y1), T2(x2,y2) 사이의 거리는 다음과 같이 구할 수 있다.\n",
        "\n",
        "D(T1,T2) = |x1-x2| + |y1-y2|\n",
        "\n",
        "두 점 사이의 거리를 제외한 나머지 정의는 유클리드 기하학에서의 정의와 같다.\n",
        "\n",
        "따라서 택시 기하학에서 원의 정의는 유클리드 기하학에서 원의 정의와 같다.\n",
        "\n",
        "원: 평면 상의 어떤 점에서 거리가 일정한 점들의 집합\n",
        "\n",
        "반지름 R이 주어졌을 때, 유클리드 기하학에서 원의 넓이와, 택시 기하학에서 원의 넓이를 구하는 프로그램을 작성하시오.\n",
        "\n",
        "# 입력\n",
        "첫째 줄에 반지름 R이 주어진다. R은 10,000보다 작거나 같은 자연수이다.\n",
        "\n",
        "# 출력\n",
        "첫째 줄에는 유클리드 기하학에서 반지름이 R인 원의 넓이를, 둘째 줄에는 택시 기하학에서 반지름이 R인 원의 넓이를 출력한다. 정답과의 오차는 0.0001까지 허용한다."
      ]
    },
    {
      "cell_type": "code",
      "metadata": {
        "id": "zqpnnZ0rrRNU",
        "colab_type": "code",
        "outputId": "89a5f2ef-fb15-48da-8000-e1bc6ab0bcbe",
        "colab": {
          "base_uri": "https://localhost:8080/",
          "height": 107
        }
      },
      "source": [
        "import math\n",
        "r = int(input())\n",
        "print('%.6f' % (r**2*math.pi))\n",
        "print('%.6f' % (r*r*2))"
      ],
      "execution_count": 26,
      "outputs": [
        {
          "output_type": "stream",
          "text": [
            "1\n",
            "3.141593\n",
            "2.000000\n",
            "3.1416\n",
            "2.0000\n"
          ],
          "name": "stdout"
        }
      ]
    }
  ]
}