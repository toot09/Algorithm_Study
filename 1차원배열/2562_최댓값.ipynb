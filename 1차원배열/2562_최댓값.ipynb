{
  "nbformat": 4,
  "nbformat_minor": 0,
  "metadata": {
    "colab": {
      "name": "Untitled20.ipynb",
      "provenance": [],
      "authorship_tag": "ABX9TyN5d05q8tDccA3jQdu24mMI",
      "include_colab_link": true
    },
    "kernelspec": {
      "name": "python3",
      "display_name": "Python 3"
    }
  },
  "cells": [
    {
      "cell_type": "markdown",
      "metadata": {
        "id": "view-in-github",
        "colab_type": "text"
      },
      "source": [
        "<a href=\"https://colab.research.google.com/github/toot09/Algorithm_Study/blob/master/1%EC%B0%A8%EC%9B%90%EB%B0%B0%EC%97%B4/2562_%EC%B5%9C%EB%8C%93%EA%B0%92.ipynb\" target=\"_parent\"><img src=\"https://colab.research.google.com/assets/colab-badge.svg\" alt=\"Open In Colab\"/></a>"
      ]
    },
    {
      "cell_type": "markdown",
      "metadata": {
        "id": "LVPEIsY3kjnr",
        "colab_type": "text"
      },
      "source": [
        "# 문제\n",
        "9개의 서로 다른 자연수가 주어질 때, 이들 중 최댓값을 찾고 그 최댓값이 몇 번째 수인지를 구하는 프로그램을 작성하시오.\n",
        "\n",
        "예를 들어, 서로 다른 9개의 자연수\n",
        "\n",
        "3, 29, 38, 12, 57, 74, 40, 85, 61\n",
        "\n",
        "이 주어지면, 이들 중 최댓값은 85이고, 이 값은 8번째 수이다.\n",
        "\n",
        "# 입력\n",
        "첫 째 줄부터 아홉 번째 줄까지 한 줄에 하나의 자연수가 주어진다. 주어지는 자연수는 100 보다 작다.\n",
        "\n",
        "# 출력\n",
        "첫째 줄에 최댓값을 출력하고, 둘째 줄에 최댓값이 몇 번째 수인지를 출력한다."
      ]
    },
    {
      "cell_type": "code",
      "metadata": {
        "id": "Yx0BM5EsZlle",
        "colab_type": "code",
        "colab": {
          "base_uri": "https://localhost:8080/",
          "height": 215
        },
        "outputId": "463a3770-3284-469b-919e-559eb130bfb9"
      },
      "source": [
        "a = []\n",
        "for i in range(9):\n",
        "  a.append(int(input()))\n",
        "max = 0\n",
        "idx = 0\n",
        "for j in range(len(a)):\n",
        "  if max < a[j]:\n",
        "    max = a[j]\n",
        "    idx = j+1\n",
        "print(max)\n",
        "print(idx)"
      ],
      "execution_count": 9,
      "outputs": [
        {
          "output_type": "stream",
          "text": [
            "3\n",
            "29\n",
            "38\n",
            "12\n",
            "57\n",
            "74\n",
            "40\n",
            "85\n",
            "61\n",
            "85\n",
            "8\n"
          ],
          "name": "stdout"
        }
      ]
    },
    {
      "cell_type": "code",
      "metadata": {
        "id": "jblXBWPUkiJV",
        "colab_type": "code",
        "outputId": "4f5c16aa-c456-4c5a-ec48-38160be7befe",
        "colab": {
          "base_uri": "https://localhost:8080/",
          "height": 215
        }
      },
      "source": [
        "#리스트 안쓰고 해보기\n",
        "max = 0\n",
        "idx = 0\n",
        "for i in range(9):\n",
        "  x = int(input())\n",
        "  if i == 0 or x > max:\n",
        "    max = x\n",
        "    idx = i+1\n",
        "print(max)\n",
        "print(i)"
      ],
      "execution_count": 4,
      "outputs": [
        {
          "output_type": "stream",
          "text": [
            "3\n",
            "29\n",
            "38\n",
            "12\n",
            "57\n",
            "74\n",
            "40\n",
            "85\n",
            "61\n",
            "85\n",
            "8\n"
          ],
          "name": "stdout"
        }
      ]
    }
  ]
}