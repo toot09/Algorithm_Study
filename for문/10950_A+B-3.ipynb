{
  "nbformat": 4,
  "nbformat_minor": 0,
  "metadata": {
    "colab": {
      "name": "Untitled16.ipynb",
      "provenance": [],
      "authorship_tag": "ABX9TyPHlwpjFC14z4YKkt7m3jqj",
      "include_colab_link": true
    },
    "kernelspec": {
      "name": "python3",
      "display_name": "Python 3"
    }
  },
  "cells": [
    {
      "cell_type": "markdown",
      "metadata": {
        "id": "view-in-github",
        "colab_type": "text"
      },
      "source": [
        "<a href=\"https://colab.research.google.com/github/toot09/Algorithm_Study/blob/master/10950_A%2BB-3.ipynb\" target=\"_parent\"><img src=\"https://colab.research.google.com/assets/colab-badge.svg\" alt=\"Open In Colab\"/></a>"
      ]
    },
    {
      "cell_type": "markdown",
      "metadata": {
        "id": "mTA-UMDLmTJO",
        "colab_type": "text"
      },
      "source": [
        "# 문제\n",
        "두 정수 A와 B를 입력받은 다음, A+B를 출력하는 프로그램을 작성하시오.\n",
        "\n",
        "# 입력\n",
        "첫째 줄에 테스트 케이스의 개수 T가 주어진다.\n",
        "\n",
        "각 테스트 케이스는 한 줄로 이루어져 있으며, 각 줄에 A와 B가 주어진다. (0 < A, B < 10)\n",
        "\n",
        "# 출력\n",
        "각 테스트 케이스마다 A+B를 출력한다."
      ]
    },
    {
      "cell_type": "code",
      "metadata": {
        "id": "PbBmH1SamMRC",
        "colab_type": "code",
        "colab": {
          "base_uri": "https://localhost:8080/",
          "height": 215
        },
        "outputId": "9de36aaf-d9f2-4784-d4b9-5d09210c2830"
      },
      "source": [
        "c = int(input())\n",
        "\n",
        "for i in range(c):\n",
        "  a,b = map(int,input().split())\n",
        "  print(a+b)"
      ],
      "execution_count": 20,
      "outputs": [
        {
          "output_type": "stream",
          "text": [
            "5\n",
            "1 1\n",
            "2\n",
            "2 3\n",
            "5\n",
            "4 4\n",
            "8\n",
            "12 4\n",
            "16\n",
            "24 123123\n",
            "123147\n"
          ],
          "name": "stdout"
        }
      ]
    }
  ]
}
