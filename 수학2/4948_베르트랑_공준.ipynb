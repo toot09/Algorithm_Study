{
  "nbformat": 4,
  "nbformat_minor": 0,
  "metadata": {
    "colab": {
      "name": "백준테스트파일.ipynb",
      "provenance": [],
      "collapsed_sections": [],
      "authorship_tag": "ABX9TyMNeZkij5EUuJ6nZO4Yz65j",
      "include_colab_link": true
    },
    "kernelspec": {
      "name": "python3",
      "display_name": "Python 3"
    }
  },
  "cells": [
    {
      "cell_type": "markdown",
      "metadata": {
        "id": "view-in-github",
        "colab_type": "text"
      },
      "source": [
        "<a href=\"https://colab.research.google.com/github/toot09/Algorithm_Study/blob/master/%EC%88%98%ED%95%992/4948_%EB%B2%A0%EB%A5%B4%ED%8A%B8%EB%9E%91_%EA%B3%B5%EC%A4%80.ipynb\" target=\"_parent\"><img src=\"https://colab.research.google.com/assets/colab-badge.svg\" alt=\"Open In Colab\"/></a>"
      ]
    },
    {
      "cell_type": "markdown",
      "metadata": {
        "id": "0vxcyhbFQ4oN",
        "colab_type": "text"
      },
      "source": [
        "# 문제\n",
        "베르트랑 공준은 임의의 자연수 n에 대하여, n보다 크고, 2n보다 작거나 같은 소수는 적어도 하나 존재한다는 내용을 담고 있다.\n",
        "\n",
        "이 명제는 조제프 베르트랑이 1845년에 추측했고, 파프누티 체비쇼프가 1850년에 증명했다.\n",
        "\n",
        "예를 들어, 10보다 크고, 20보다 작거나 같은 소수는 4개가 있다. (11, 13, 17, 19) 또, 14보다 크고, 28보다 작거나 같은 소수는 3개가 있다. (17,19, 23)\n",
        "\n",
        "n이 주어졌을 때, n보다 크고, 2n보다 작거나 같은 소수의 개수를 구하는 프로그램을 작성하시오. \n",
        "\n",
        "# 입력\n",
        "입력은 여러 개의 테스트 케이스로 이루어져 있다. 각 케이스는 n을 포함하며, 한 줄로 이루어져 있다. (n ≤ 123456)\n",
        "\n",
        "입력의 마지막에는 0이 주어진다.\n",
        "\n",
        "# 출력\n",
        "각 테스트 케이스에 대해서, n보다 크고, 2n보다 작거나 같은 소수의 개수를 출력한다."
      ]
    },
    {
      "cell_type": "code",
      "metadata": {
        "id": "ZdgDcJlt29HN",
        "colab_type": "code",
        "outputId": "2d64f7f3-622f-4833-b799-bd02700058c8",
        "colab": {
          "base_uri": "https://localhost:8080/",
          "height": 107
        }
      },
      "source": [
        "#에라토스테네스의 체\n",
        "def primeCnt(n):\n",
        "  lst = [True]*n\n",
        "  for i in range(2,int(n**0.5)+1):\n",
        "    if lst[i]:\n",
        "      for x in range(i+i,n,i):\n",
        "        lst[x] = False\n",
        "  return [j for j in range(2,n) if lst[j]]\n",
        "\n",
        "while True:\n",
        "  x = int(input())\n",
        "  if x == 0:\n",
        "    break\n",
        "  lst = primeCnt(x*2+1)\n",
        "  print(len([i for i in lst if i>x ]))"
      ],
      "execution_count": 22,
      "outputs": [
        {
          "output_type": "stream",
          "text": [
            "1\n",
            "1\n",
            "100\n",
            "21\n",
            "0\n"
          ],
          "name": "stdout"
        }
      ]
    },
    {
      "cell_type": "code",
      "metadata": {
        "id": "lQqi-lBDT4LU",
        "colab_type": "code",
        "outputId": "f02227ac-5fd1-4870-e9f0-d735fa8b561c",
        "colab": {
          "base_uri": "https://localhost:8080/",
          "height": 287
        }
      },
      "source": [
        "# 시간초과\n",
        "import math\n",
        "\n",
        "def prime(n):\n",
        "  if n == 1:\n",
        "    return False\n",
        "  else:\n",
        "    for i in range(2,int(math.sqrt(n))+1):\n",
        "      if n%i == 0:\n",
        "        return False\n",
        "    return True\n",
        "\n",
        "while True:\n",
        "  n = int(input())\n",
        "  if n == 0:\n",
        "    break\n",
        "  cnt = 0\n",
        "  for i in range(n+1,2*n+1):\n",
        "    if prime(i):\n",
        "      cnt += 1\n",
        "  print(cnt)"
      ],
      "execution_count": 10,
      "outputs": [
        {
          "output_type": "stream",
          "text": [
            "1\n",
            "1\n",
            "10\n",
            "4\n",
            "13\n",
            "3\n",
            "100\n",
            "21\n",
            "1000\n",
            "135\n",
            "10000\n",
            "1033\n",
            "100000\n",
            "8392\n",
            "0\n"
          ],
          "name": "stdout"
        }
      ]
    }
  ]
}