{
  "nbformat": 4,
  "nbformat_minor": 0,
  "metadata": {
    "colab": {
      "name": "Untitled20.ipynb",
      "provenance": [],
      "authorship_tag": "ABX9TyO1bxWK4nflbEVYnThiHq+/",
      "include_colab_link": true
    },
    "kernelspec": {
      "name": "python3",
      "display_name": "Python 3"
    }
  },
  "cells": [
    {
      "cell_type": "markdown",
      "metadata": {
        "id": "view-in-github",
        "colab_type": "text"
      },
      "source": [
        "<a href=\"https://colab.research.google.com/github/toot09/Algorithm_Study/blob/master/1%EC%B0%A8%EC%9B%90%EB%B0%B0%EC%97%B4/2577_%EC%88%AB%EC%9E%90%EC%9D%98%EA%B0%9C%EC%88%98.ipynb\" target=\"_parent\"><img src=\"https://colab.research.google.com/assets/colab-badge.svg\" alt=\"Open In Colab\"/></a>"
      ]
    },
    {
      "cell_type": "markdown",
      "metadata": {
        "id": "LVPEIsY3kjnr",
        "colab_type": "text"
      },
      "source": [
        "# 문제\n",
        "세 개의 자연수 A, B, C가 주어질 때 A×B×C를 계산한 결과에 0부터 9까지 각각의 숫자가 몇 번씩 쓰였는지를 구하는 프로그램을 작성하시오.\n",
        "\n",
        "예를 들어 A = 150, B = 266, C = 427 이라면 \n",
        "\n",
        "A × B × C = 150 × 266 × 427 = 17037300 이 되고, \n",
        "\n",
        "계산한 결과 17037300 에는 0이 3번, 1이 1번, 3이 2번, 7이 2번 쓰였다.\n",
        "\n",
        "# 입력\n",
        "첫째 줄에 A, 둘째 줄에 B, 셋째 줄에 C가 주어진다. A, B, C는 모두 100보다 같거나 크고, 1,000보다 작은 자연수이다.\n",
        "\n",
        "# 출력\n",
        "첫째 줄에는 A×B×C의 결과에 0 이 몇 번 쓰였는지 출력한다. 마찬가지로 둘째 줄부터 열 번째 줄까지 A×B×C의 결과에 1부터 9까지의 숫자가 각각 몇 번 쓰였는지 차례로 한 줄에 하나씩 출력한다."
      ]
    },
    {
      "cell_type": "code",
      "metadata": {
        "id": "Yx0BM5EsZlle",
        "colab_type": "code",
        "colab": {
          "base_uri": "https://localhost:8080/",
          "height": 251
        },
        "outputId": "55483543-19a8-47af-dd18-8518f7c99be2"
      },
      "source": [
        "A = int(input())\n",
        "B = int(input())\n",
        "C = int(input())\n",
        "R = A*B*C\n",
        "a = [0 for _ in range(10)]\n",
        "\n",
        "while(R > 0):\n",
        "  a[R%10] += 1\n",
        "  R = int(R/10)\n",
        "\n",
        "for i in range(0,10):\n",
        "  print(a[i])"
      ],
      "execution_count": 27,
      "outputs": [
        {
          "output_type": "stream",
          "text": [
            "3\n",
            "4\n",
            "4\n",
            "0\n",
            "0\n",
            "0\n",
            "0\n",
            "1\n",
            "0\n",
            "0\n",
            "0\n",
            "1\n",
            "0\n"
          ],
          "name": "stdout"
        }
      ]
    }
  ]
}