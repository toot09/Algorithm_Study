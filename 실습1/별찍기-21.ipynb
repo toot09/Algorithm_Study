{
  "nbformat": 4,
  "nbformat_minor": 0,
  "metadata": {
    "colab": {
      "name": "Untitled20.ipynb",
      "provenance": [],
      "authorship_tag": "ABX9TyPXEz2f61ju9CRf8hB4cV9G",
      "include_colab_link": true
    },
    "kernelspec": {
      "name": "python3",
      "display_name": "Python 3"
    }
  },
  "cells": [
    {
      "cell_type": "markdown",
      "metadata": {
        "id": "view-in-github",
        "colab_type": "text"
      },
      "source": [
        "<a href=\"https://colab.research.google.com/github/toot09/Algorithm_Study/blob/master/%EC%8B%A4%EC%8A%B51/%EB%B3%84%EC%B0%8D%EA%B8%B0-21.ipynb\" target=\"_parent\"><img src=\"https://colab.research.google.com/assets/colab-badge.svg\" alt=\"Open In Colab\"/></a>"
      ]
    },
    {
      "cell_type": "markdown",
      "metadata": {
        "id": "LVPEIsY3kjnr",
        "colab_type": "text"
      },
      "source": [
        "# 문제\n",
        "예제를 보고 규칙을 유추한 뒤에 별을 찍어 보세요.\n",
        "\n",
        "# 입력\n",
        "첫째 줄에 N(1 ≤ N ≤ 100)이 주어진다.\n",
        "\n",
        "# 출력\n",
        "첫째 줄부터 차례대로 별을 출력한다."
      ]
    },
    {
      "cell_type": "code",
      "metadata": {
        "id": "jblXBWPUkiJV",
        "colab_type": "code",
        "outputId": "a31be6a9-d418-4d58-ee05-d7cf7daed574",
        "colab": {
          "base_uri": "https://localhost:8080/",
          "height": 215
        }
      },
      "source": [
        "x = int(input())\n",
        "\n",
        "t = int(x/2) #가로로 2 나눈만큼\n",
        "n = x%2 #나머지는 위에 한개더\n",
        "\n",
        "for f in range(x):\n",
        "  i = 0\n",
        "  j = 0\n",
        "  while(True):\n",
        "    print('*', end='')\n",
        "    i = i+1\n",
        "    if(i==t+n):\n",
        "      break\n",
        "    print(' ',end='')\n",
        "  print()\n",
        "  while(True):\n",
        "    print(' *', end='')\n",
        "    j = j+1\n",
        "    if(j==t):\n",
        "      break\n",
        "  print()\n",
        "\n",
        "\n",
        "\n"
      ],
      "execution_count": 3,
      "outputs": [
        {
          "output_type": "stream",
          "text": [
            "5\n",
            "* * *\n",
            " * *\n",
            "* * *\n",
            " * *\n",
            "* * *\n",
            " * *\n",
            "* * *\n",
            " * *\n",
            "* * *\n",
            " * *\n"
          ],
          "name": "stdout"
        }
      ]
    }
  ]
}