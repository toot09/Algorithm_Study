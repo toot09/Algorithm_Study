{
  "nbformat": 4,
  "nbformat_minor": 0,
  "metadata": {
    "colab": {
      "name": "백준테스트파일.ipynb",
      "provenance": [],
      "collapsed_sections": [],
      "authorship_tag": "ABX9TyNfErDSc42LJAzgC5MG7/52",
      "include_colab_link": true
    },
    "kernelspec": {
      "name": "python3",
      "display_name": "Python 3"
    }
  },
  "cells": [
    {
      "cell_type": "markdown",
      "metadata": {
        "id": "view-in-github",
        "colab_type": "text"
      },
      "source": [
        "<a href=\"https://colab.research.google.com/github/toot09/Algorithm_backjoon/blob/master/%EC%A0%95%EB%A0%AC/10989_%EC%88%98%EC%A0%95%EB%A0%AC%ED%95%98%EA%B8%B03.ipynb\" target=\"_parent\"><img src=\"https://colab.research.google.com/assets/colab-badge.svg\" alt=\"Open In Colab\"/></a>"
      ]
    },
    {
      "cell_type": "markdown",
      "metadata": {
        "id": "0vxcyhbFQ4oN",
        "colab_type": "text"
      },
      "source": [
        "# 문제\n",
        "N개의 수가 주어졌을 때, 이를 오름차순으로 정렬하는 프로그램을 작성하시오.\n",
        "\n",
        "# 입력\n",
        "첫째 줄에 수의 개수 N(1 ≤ N ≤ 10,000,000)이 주어진다. 둘째 줄부터 N개의 줄에는 숫자가 주어진다. 이 수는 10,000보다 작거나 같은 자연수이다.\n",
        "\n",
        "# 출력\n",
        "첫째 줄부터 N개의 줄에 오름차순으로 정렬한 결과를 한 줄에 하나씩 출력한다."
      ]
    },
    {
      "cell_type": "code",
      "metadata": {
        "id": "H0Cp1rG6vu0A",
        "colab_type": "code",
        "outputId": "6d05f06a-faee-4948-980c-a41fc71d0ae5",
        "colab": {
          "base_uri": "https://localhost:8080/",
          "height": 215
        }
      },
      "source": [
        "import sys\n",
        "lst = [0]*10001\n",
        "n = int(input())\n",
        "for i in range(n):\n",
        "  lst[int(sys.stdin.readline())] += 1\n",
        "for j in range(len(lst)):\n",
        "  if lst[j] != 0:\n",
        "    for k in range(lst[j]):\n",
        "      sys.stdout.write(str(j)+'\\n')"
      ],
      "execution_count": 6,
      "outputs": [
        {
          "output_type": "stream",
          "text": [
            "5\n",
            "3\n",
            "1\n",
            "6\n",
            "2\n",
            "1\n",
            "1\n",
            "1\n",
            "2\n",
            "3\n",
            "6\n"
          ],
          "name": "stdout"
        }
      ]
    }
  ]
}