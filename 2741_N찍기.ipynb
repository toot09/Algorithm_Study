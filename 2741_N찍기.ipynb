{
  "nbformat": 4,
  "nbformat_minor": 0,
  "metadata": {
    "colab": {
      "name": "Untitled16.ipynb",
      "provenance": [],
      "authorship_tag": "ABX9TyOeylwKeCkrfVomQFvs5/EM",
      "include_colab_link": true
    },
    "kernelspec": {
      "name": "python3",
      "display_name": "Python 3"
    }
  },
  "cells": [
    {
      "cell_type": "markdown",
      "metadata": {
        "id": "view-in-github",
        "colab_type": "text"
      },
      "source": [
        "<a href=\"https://colab.research.google.com/github/toot09/Algorithm_Study/blob/master/2741_N%EC%B0%8D%EA%B8%B0.ipynb\" target=\"_parent\"><img src=\"https://colab.research.google.com/assets/colab-badge.svg\" alt=\"Open In Colab\"/></a>"
      ]
    },
    {
      "cell_type": "markdown",
      "metadata": {
        "id": "mTA-UMDLmTJO",
        "colab_type": "text"
      },
      "source": [
        "# 문제\n",
        "자연수 N이 주어졌을 때, 1부터 N까지 한 줄에 하나씩 출력하는 프로그램을 작성하시오.\n",
        "\n",
        "# 입력\n",
        "첫째 줄에 100,000보다 작거나 같은 자연수 N이 주어진다.\n",
        "\n",
        "# 출력\n",
        "첫째 줄부터 N번째 줄 까지 차례대로 출력한다."
      ]
    },
    {
      "cell_type": "code",
      "metadata": {
        "id": "PbBmH1SamMRC",
        "colab_type": "code",
        "colab": {
          "base_uri": "https://localhost:8080/",
          "height": 125
        },
        "outputId": "9e6644a2-79b7-4915-cdc5-29cc867fdc08"
      },
      "source": [
        "c = int(input())\n",
        "for i in range(1,c+1):\n",
        "  print(i)"
      ],
      "execution_count": 33,
      "outputs": [
        {
          "output_type": "stream",
          "text": [
            "5\n",
            "1\n",
            "2\n",
            "3\n",
            "4\n",
            "5\n"
          ],
          "name": "stdout"
        }
      ]
    }
  ]
}