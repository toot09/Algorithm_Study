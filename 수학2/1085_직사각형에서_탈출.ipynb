{
  "nbformat": 4,
  "nbformat_minor": 0,
  "metadata": {
    "colab": {
      "name": "백준테스트파일.ipynb",
      "provenance": [],
      "collapsed_sections": [],
      "authorship_tag": "ABX9TyNKm8MQUK42CenkqL+cRdLF",
      "include_colab_link": true
    },
    "kernelspec": {
      "name": "python3",
      "display_name": "Python 3"
    }
  },
  "cells": [
    {
      "cell_type": "markdown",
      "metadata": {
        "id": "view-in-github",
        "colab_type": "text"
      },
      "source": [
        "<a href=\"https://colab.research.google.com/github/toot09/Algorithm_Study/blob/master/%EC%88%98%ED%95%992/1085_%EC%A7%81%EC%82%AC%EA%B0%81%ED%98%95%EC%97%90%EC%84%9C_%ED%83%88%EC%B6%9C.ipynb\" target=\"_parent\"><img src=\"https://colab.research.google.com/assets/colab-badge.svg\" alt=\"Open In Colab\"/></a>"
      ]
    },
    {
      "cell_type": "markdown",
      "metadata": {
        "id": "0vxcyhbFQ4oN",
        "colab_type": "text"
      },
      "source": [
        "# 문제\n",
        "한수는 지금 (x, y)에 있다. 직사각형의 왼쪽 아래 꼭짓점은 (0, 0)에 있고, 오른쪽 위 꼭짓점은 (w, h)에 있다. 직사각형의 경계선까지 가는 거리의 최솟값을 구하는 프로그램을 작성하시오.\n",
        "\n",
        "# 입력\n",
        "첫째 줄에 x y w h가 주어진다. w와 h는 1,000보다 작거나 같은 자연수이고, x는 1보다 크거나 같고, w-1보다 작거나 같은 자연수이고, y는 1보다 크거나 같고, h-1보다 작거나 같은 자연수이다.\n",
        "\n",
        "# 출력\n",
        "첫째 줄에 문제의 정답을 출력한다."
      ]
    },
    {
      "cell_type": "code",
      "metadata": {
        "id": "GcEpPc_0nRxa",
        "colab_type": "code",
        "outputId": "8975eade-8a43-4c1b-cbd4-1b00042aa6d5",
        "colab": {
          "base_uri": "https://localhost:8080/",
          "height": 53
        }
      },
      "source": [
        "x, y, w, h = map(int,input().split())\n",
        "if x > w-x:\n",
        "  wDis = w-x\n",
        "else:\n",
        "  wDis = x\n",
        "if y > h-y:\n",
        "  hDis = h-y\n",
        "else:\n",
        "  hDis = y\n",
        "if wDis > hDis:\n",
        "  print(hDis)\n",
        "else:\n",
        "  print(wDis)"
      ],
      "execution_count": 43,
      "outputs": [
        {
          "output_type": "stream",
          "text": [
            "6 2 10 3\n",
            "1\n"
          ],
          "name": "stdout"
        }
      ]
    },
    {
      "cell_type": "code",
      "metadata": {
        "id": "nRu32Xj11ZIK",
        "colab_type": "code",
        "colab": {
          "base_uri": "https://localhost:8080/",
          "height": 53
        },
        "outputId": "84fca103-0db8-401a-8907-7742e9bef2a9"
      },
      "source": [
        "x, y, w, h = map(int,input().split())\n",
        "print(min(x,y,w-x,h-y))"
      ],
      "execution_count": 44,
      "outputs": [
        {
          "output_type": "stream",
          "text": [
            "6 2 10 3\n",
            "1\n"
          ],
          "name": "stdout"
        }
      ]
    }
  ]
}