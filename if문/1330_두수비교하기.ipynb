{
  "nbformat": 4,
  "nbformat_minor": 0,
  "metadata": {
    "colab": {
      "name": "Untitled13.ipynb",
      "provenance": [],
      "collapsed_sections": [],
      "authorship_tag": "ABX9TyOAsXoFrjxRTsjqsw0rXXVF",
      "include_colab_link": true
    },
    "kernelspec": {
      "name": "python3",
      "display_name": "Python 3"
    }
  },
  "cells": [
    {
      "cell_type": "markdown",
      "metadata": {
        "id": "view-in-github",
        "colab_type": "text"
      },
      "source": [
        "<a href=\"https://colab.research.google.com/github/toot09/Algorithm_Study/blob/master/1330_%EB%91%90%EC%88%98%EB%B9%84%EA%B5%90%ED%95%98%EA%B8%B0.ipynb\" target=\"_parent\"><img src=\"https://colab.research.google.com/assets/colab-badge.svg\" alt=\"Open In Colab\"/></a>"
      ]
    },
    {
      "cell_type": "markdown",
      "metadata": {
        "id": "DwUfvoGkQu12",
        "colab_type": "text"
      },
      "source": [
        "# 문제\n",
        "\n",
        "두 정수 A와 B가 주어졌을 때, A와 B를 비교하는 프로그램을 작성하시오.\n",
        "\n",
        "# 입력\n",
        "\n",
        "첫째 줄에 A와 B가 주어진다. A와 B는 공백 한 칸으로 구분되어져 있다.\n",
        "\n",
        "# 출력\n",
        "\n",
        "첫째 줄에 다음 세 가지 중 하나를 출력한다.\n",
        "\n",
        "* A가 B보다 큰 경우에는 '>'를 출력한다.\n",
        "* A가 B보다 작은 경우에는 '<'를 출력한다.\n",
        "* A와 B가 같은 경우에는 '=='를 출력한다.\n",
        "\n",
        "# 제한\n",
        "\n",
        "-10,000 ≤ A, B ≤ 10,000"
      ]
    },
    {
      "cell_type": "code",
      "metadata": {
        "id": "nBWlwscVDq_x",
        "colab_type": "code",
        "colab": {
          "base_uri": "https://localhost:8080/",
          "height": 53
        },
        "outputId": "d8b6cec3-e3bd-4bec-9190-4e00e9d7446e"
      },
      "source": [
        "A, B = map(int, input().split())\n",
        "if (A>B):\n",
        "  print('>')\n",
        "elif (A<B):\n",
        "  print('<')\n",
        "else:\n",
        "  print('==')"
      ],
      "execution_count": 44,
      "outputs": [
        {
          "output_type": "stream",
          "text": [
            "10 10\n",
            "==\n"
          ],
          "name": "stdout"
        }
      ]
    }
  ]
}
