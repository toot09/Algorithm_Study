{
  "nbformat": 4,
  "nbformat_minor": 0,
  "metadata": {
    "colab": {
      "name": "Untitled14.ipynb",
      "provenance": [],
      "authorship_tag": "ABX9TyNK56mlohx1EZNh2v4yUFOy",
      "include_colab_link": true
    },
    "kernelspec": {
      "name": "python3",
      "display_name": "Python 3"
    }
  },
  "cells": [
    {
      "cell_type": "markdown",
      "metadata": {
        "id": "view-in-github",
        "colab_type": "text"
      },
      "source": [
        "<a href=\"https://colab.research.google.com/github/toot09/Algorithm_Study/blob/master/%EA%B3%B5%EB%B6%80%ED%95%B4%EC%95%BC%ED%95%A8_%EC%82%BD%EC%9E%85%EC%A0%95%EB%A0%AC.ipynb\" target=\"_parent\"><img src=\"https://colab.research.google.com/assets/colab-badge.svg\" alt=\"Open In Colab\"/></a>"
      ]
    },
    {
      "cell_type": "markdown",
      "metadata": {
        "id": "gvuQDuruAg_n",
        "colab_type": "text"
      },
      "source": [
        "# 삽입정렬"
      ]
    },
    {
      "cell_type": "code",
      "metadata": {
        "id": "BALBTqO1_ksK",
        "colab_type": "code",
        "outputId": "3aff3c42-0b51-4a75-f575-825ceef12c59",
        "colab": {
          "base_uri": "https://localhost:8080/",
          "height": 53
        }
      },
      "source": [
        "def insertionSortRecursive(arr, n): \n",
        "    if (n <= 1): \n",
        "        return\n",
        "      \n",
        "    insertionSortRecursive(arr, n - 1) \n",
        "    last = arr[n - 1] \n",
        "    j = n - 2\n",
        "    while (j >= 0 and arr[j] > last): \n",
        "        arr[j + 1] = arr[j] \n",
        "        j = j - 1\n",
        "  \n",
        "    arr[j + 1] = last\n",
        "\n",
        "def printArray(arr, n): \n",
        "    for i in range(n): \n",
        "        print(arr[i], ' ', end = '')\n",
        "    print()\n",
        "  \n",
        "a = [8, 5, 3, 2, 9, 1, 4, 7, 6]\n",
        "n = len(a)\n",
        "printArray(a, n)\n",
        "insertionSortRecursive(a, n) \n",
        "printArray(a, n) "
      ],
      "execution_count": 40,
      "outputs": [
        {
          "output_type": "stream",
          "text": [
            "8  5  3  2  9  1  4  7  6  \n",
            "1  2  3  4  5  6  7  8  9  \n"
          ],
          "name": "stdout"
        }
      ]
    }
  ]
}