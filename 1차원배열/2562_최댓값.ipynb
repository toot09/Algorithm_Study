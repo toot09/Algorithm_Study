{
  "nbformat": 4,
  "nbformat_minor": 0,
  "metadata": {
    "colab": {
      "name": "Untitled20.ipynb",
      "provenance": [],
      "authorship_tag": "ABX9TyNlRH461580xFlNkye0kpfI",
      "include_colab_link": true
    },
    "kernelspec": {
      "name": "python3",
      "display_name": "Python 3"
    }
  },
  "cells": [
    {
      "cell_type": "markdown",
      "metadata": {
        "id": "view-in-github",
        "colab_type": "text"
      },
      "source": [
        "<a href=\"https://colab.research.google.com/github/toot09/Algorithm_Study/blob/master/1%EC%B0%A8%EC%9B%90%EB%B0%B0%EC%97%B4/10818_2562.ipynb\" target=\"_parent\"><img src=\"https://colab.research.google.com/assets/colab-badge.svg\" alt=\"Open In Colab\"/></a>"
      ]
    },
    {
      "cell_type": "markdown",
      "metadata": {
        "id": "LVPEIsY3kjnr",
        "colab_type": "text"
      },
      "source": [
        "# 문제\n",
        "9개의 서로 다른 자연수가 주어질 때, 이들 중 최댓값을 찾고 그 최댓값이 몇 번째 수인지를 구하는 프로그램을 작성하시오.\n",
        "\n",
        "예를 들어, 서로 다른 9개의 자연수\n",
        "\n",
        "3, 29, 38, 12, 57, 74, 40, 85, 61\n",
        "\n",
        "이 주어지면, 이들 중 최댓값은 85이고, 이 값은 8번째 수이다.\n",
        "\n",
        "# 입력\n",
        "첫 째 줄부터 아홉 번째 줄까지 한 줄에 하나의 자연수가 주어진다. 주어지는 자연수는 100 보다 작다.\n",
        "\n",
        "# 출력\n",
        "첫째 줄에 최댓값을 출력하고, 둘째 줄에 최댓값이 몇 번째 수인지를 출력한다."
      ]
    },
    {
      "cell_type": "code",
      "metadata": {
        "id": "jblXBWPUkiJV",
        "colab_type": "code",
        "outputId": "930a95aa-42fd-4683-caae-76a91113addb",
        "colab": {
          "base_uri": "https://localhost:8080/",
          "height": 215
        }
      },
      "source": [
        "max = 0\n",
        "idx = 0\n",
        "for i in range(9):\n",
        "  x = int(input())\n",
        "  if i == 0 or x > max:\n",
        "    max = x\n",
        "    idx = i+1\n",
        "print(max)\n",
        "print(i)\n"
      ],
      "execution_count": 3,
      "outputs": [
        {
          "output_type": "stream",
          "text": [
            "4\n",
            "2\n",
            "7\n",
            "2\n",
            "1\n",
            "8\n",
            "5\n",
            "9\n",
            "2\n",
            "9\n",
            "8\n"
          ],
          "name": "stdout"
        }
      ]
    }
  ]
}
