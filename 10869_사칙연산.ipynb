{
  "nbformat": 4,
  "nbformat_minor": 0,
  "metadata": {
    "colab": {
      "name": "Untitled13.ipynb",
      "provenance": [],
      "authorship_tag": "ABX9TyPbyD0LaY07TsM4SEA8oM8g",
      "include_colab_link": true
    },
    "kernelspec": {
      "name": "python3",
      "display_name": "Python 3"
    }
  },
  "cells": [
    {
      "cell_type": "markdown",
      "metadata": {
        "id": "view-in-github",
        "colab_type": "text"
      },
      "source": [
        "<a href=\"https://colab.research.google.com/github/toot09/Algorithm_Study/blob/master/10869_%EC%82%AC%EC%B9%99%EC%97%B0%EC%82%B0.ipynb\" target=\"_parent\"><img src=\"https://colab.research.google.com/assets/colab-badge.svg\" alt=\"Open In Colab\"/></a>"
      ]
    },
    {
      "cell_type": "markdown",
      "metadata": {
        "id": "d7YVCr9hDwfw",
        "colab_type": "text"
      },
      "source": [
        "# 두 자연수 A와 B가 주어진다. 이때, A+B, A-B, A*B, A/B(몫), A%B(나머지)를 출력하는 프로그램을 작성하시오. "
      ]
    },
    {
      "cell_type": "markdown",
      "metadata": {
        "id": "13uLGFd6OPg9",
        "colab_type": "text"
      },
      "source": [
        "**입력**\n",
        "\n",
        "두 자연수 A와 B가 주어진다. (1 ≤ A, B ≤ 10,000)"
      ]
    },
    {
      "cell_type": "markdown",
      "metadata": {
        "id": "3bifZ6bKOPJD",
        "colab_type": "text"
      },
      "source": [
        "**출력**\n",
        "\n",
        "첫째 줄에 A+B, 둘째 줄에 A-B, 셋째 줄에 A*B, 넷째 줄에 A/B, 다섯째 줄에 A%B를 출력한다."
      ]
    },
    {
      "cell_type": "code",
      "metadata": {
        "id": "nBWlwscVDq_x",
        "colab_type": "code",
        "colab": {
          "base_uri": "https://localhost:8080/",
          "height": 125
        },
        "outputId": "3162f95e-ef3f-43f8-bfe0-d6d38f2d3190"
      },
      "source": [
        "a, b = map(int,input().split())\n",
        "print(a+b)\n",
        "print(a-b)\n",
        "print(a*b)\n",
        "print(a/b)\n",
        "print(a%b)"
      ],
      "execution_count": 19,
      "outputs": [
        {
          "output_type": "stream",
          "text": [
            "6 3\n",
            "9\n",
            "3\n",
            "18\n",
            "2.0\n",
            "0\n"
          ],
          "name": "stdout"
        }
      ]
    }
  ]
}