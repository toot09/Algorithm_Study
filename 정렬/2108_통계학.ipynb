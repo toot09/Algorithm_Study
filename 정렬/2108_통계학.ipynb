{
  "nbformat": 4,
  "nbformat_minor": 0,
  "metadata": {
    "colab": {
      "name": "백준테스트파일.ipynb",
      "provenance": [],
      "collapsed_sections": [],
      "authorship_tag": "ABX9TyNRyfWtAg1W/6sk0+2F7Sm7",
      "include_colab_link": true
    },
    "kernelspec": {
      "name": "python3",
      "display_name": "Python 3"
    }
  },
  "cells": [
    {
      "cell_type": "markdown",
      "metadata": {
        "id": "view-in-github",
        "colab_type": "text"
      },
      "source": [
        "<a href=\"https://colab.research.google.com/github/toot09/Algorithm_backjoon/blob/master/%EC%A0%95%EB%A0%AC/2108_%ED%86%B5%EA%B3%84%ED%95%99.ipynb\" target=\"_parent\"><img src=\"https://colab.research.google.com/assets/colab-badge.svg\" alt=\"Open In Colab\"/></a>"
      ]
    },
    {
      "cell_type": "markdown",
      "metadata": {
        "id": "0vxcyhbFQ4oN",
        "colab_type": "text"
      },
      "source": [
        "# 문제\n",
        "수를 처리하는 것은 통계학에서 상당히 중요한 일이다. 통계학에서 N개의 수를 대표하는 기본 통계값에는 다음과 같은 것들이 있다. 단, N은 홀수라고 가정하자.\n",
        "\n",
        "산술평균 : N개의 수들의 합을 N으로 나눈 값\n",
        "중앙값 : N개의 수들을 증가하는 순서로 나열했을 경우 그 중앙에 위치하는 값\n",
        "최빈값 : N개의 수들 중 가장 많이 나타나는 값\n",
        "범위 : N개의 수들 중 최댓값과 최솟값의 차이\n",
        "N개의 수가 주어졌을 때, 네 가지 기본 통계값을 구하는 프로그램을 작성하시오.\n",
        "\n",
        "# 입력\n",
        "첫째 줄에 수의 개수 N(1 ≤ N ≤ 500,000)이 주어진다. 그 다음 N개의 줄에는 정수들이 주어진다. 입력되는 정수의 절댓값은 4,000을 넘지 않는다.\n",
        "\n",
        "# 출력\n",
        "첫째 줄에는 산술평균을 출력한다. 소수점 이하 첫째 자리에서 반올림한 값을 \n",
        "\n",
        "출력한다.\n",
        "\n",
        "둘째 줄에는 중앙값을 출력한다.\n",
        "\n",
        "셋째 줄에는 최빈값을 출력한다. 여러 개 있을 때에는 최빈값 중 두 번째로 작은 값을 출력한다.\n",
        "\n",
        "넷째 줄에는 범위를 출력한다."
      ]
    },
    {
      "cell_type": "code",
      "metadata": {
        "id": "6DuNwo5Tw2Kb",
        "colab_type": "code",
        "colab": {
          "base_uri": "https://localhost:8080/",
          "height": 215
        },
        "outputId": "bad2a661-77be-4809-adaf-6c3ff68f01fb"
      },
      "source": [
        "import sys\n",
        "from collections import Counter\n",
        "#n = int(sys.stdin.readline())\n",
        "n = int(input())\n",
        "nums = []\n",
        "for i in range(n):\n",
        "    #nums.append(int(sys.stdin.readline()))\n",
        "    nums.append(int(input()))\n",
        "nums.sort()\n",
        "nums_s = Counter(nums).most_common()\n",
        "print(round(sum(nums) / n))\n",
        "print(nums[n // 2])\n",
        "if len(nums_s) > 1:\n",
        "    if nums_s[0][1] == nums_s[1][1]:\n",
        "        print(nums_s[1][0])\n",
        "    else:\n",
        "        print(nums_s[0][0])\n",
        "else:\n",
        "    print(nums_s[0][0])\n",
        "print(nums[-1] - nums[0])"
      ],
      "execution_count": 9,
      "outputs": [
        {
          "output_type": "stream",
          "text": [
            "5\n",
            "1\n",
            "3\n",
            "1\n",
            "-2\n",
            "2\n",
            "@@@@ [(1, 2), (-2, 1), (2, 1), (3, 1)]\n",
            "1\n",
            "1\n",
            "1\n",
            "5\n"
          ],
          "name": "stdout"
        }
      ]
    }
  ]
}