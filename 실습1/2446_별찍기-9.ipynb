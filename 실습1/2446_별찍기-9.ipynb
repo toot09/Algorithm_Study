{
  "nbformat": 4,
  "nbformat_minor": 0,
  "metadata": {
    "colab": {
      "name": "Untitled20.ipynb",
      "provenance": [],
      "authorship_tag": "ABX9TyPfPs2Hpguv8/zjYTj/q7Gq",
      "include_colab_link": true
    },
    "kernelspec": {
      "name": "python3",
      "display_name": "Python 3"
    }
  },
  "cells": [
    {
      "cell_type": "markdown",
      "metadata": {
        "id": "view-in-github",
        "colab_type": "text"
      },
      "source": [
        "<a href=\"https://colab.research.google.com/github/toot09/Algorithm_Study/blob/master/2446_%EB%B3%84%EC%B0%8D%EA%B8%B0-9.ipynb\" target=\"_parent\"><img src=\"https://colab.research.google.com/assets/colab-badge.svg\" alt=\"Open In Colab\"/></a>"
      ]
    },
    {
      "cell_type": "markdown",
      "metadata": {
        "id": "LVPEIsY3kjnr",
        "colab_type": "text"
      },
      "source": [
        "# 문제\n",
        "예제를 보고 규칙을 유추한 뒤에 별을 찍어 보세요.\n",
        "\n",
        "# 입력\n",
        "첫째 줄에 N(1 ≤ N ≤ 100)이 주어진다.\n",
        "\n",
        "# 출력\n",
        "첫째 줄부터 2×N-1번째 줄까지 차례대로 별을 출력한다."
      ]
    },
    {
      "cell_type": "code",
      "metadata": {
        "id": "jblXBWPUkiJV",
        "colab_type": "code",
        "colab": {
          "base_uri": "https://localhost:8080/",
          "height": 197
        },
        "outputId": "e26c901a-6e89-46e8-ebb2-dfde90d6a365"
      },
      "source": [
        "x = int(input())\n",
        "\n",
        "a = 2*x-1\n",
        "space = -1\n",
        "\n",
        "for i in range(a,0,-2):\n",
        "  space = space + 1\n",
        "  for s in range(space):\n",
        "    print(' ',end='')\n",
        "  for j in range(i):\n",
        "    print('*',end='')\n",
        "  print()\n",
        "\n",
        "for i in range(3,a+1,2):\n",
        "  space = space - 1\n",
        "  for s in range(space):\n",
        "    print(' ',end='')\n",
        "  for j in range(i):\n",
        "    print('*',end='')\n",
        "  print()"
      ],
      "execution_count": 25,
      "outputs": [
        {
          "output_type": "stream",
          "text": [
            "5\n",
            "*********\n",
            " *******\n",
            "  *****\n",
            "   ***\n",
            "    *\n",
            "   ***\n",
            "  *****\n",
            " *******\n",
            "*********\n"
          ],
          "name": "stdout"
        }
      ]
    }
  ]
}
