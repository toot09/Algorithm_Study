{
  "nbformat": 4,
  "nbformat_minor": 0,
  "metadata": {
    "colab": {
      "name": "Untitled22.ipynb",
      "provenance": [],
      "authorship_tag": "ABX9TyNKzdNKvSYjTDlWkHu+q84D",
      "include_colab_link": true
    },
    "kernelspec": {
      "name": "python3",
      "display_name": "Python 3"
    }
  },
  "cells": [
    {
      "cell_type": "markdown",
      "metadata": {
        "id": "view-in-github",
        "colab_type": "text"
      },
      "source": [
        "<a href=\"https://colab.research.google.com/github/toot09/Algorithm_Study/blob/master/%EB%AC%B8%EC%9E%90%EC%97%B4/1152_%EB%8B%A8%EC%96%B4%EC%9D%98%EA%B0%9C%EC%88%98.ipynb\" target=\"_parent\"><img src=\"https://colab.research.google.com/assets/colab-badge.svg\" alt=\"Open In Colab\"/></a>"
      ]
    },
    {
      "cell_type": "markdown",
      "metadata": {
        "id": "RhP8-A_BOfPD",
        "colab_type": "text"
      },
      "source": [
        "# 문제\n",
        "영어 대소문자와 띄어쓰기만으로 이루어진 문자열이 주어진다. 이 문자열에는 몇 개의 단어가 있을까? 이를 구하는 프로그램을 작성하시오. 단, 한 단어가 여러 번 등장하면 등장한 횟수만큼 모두 세어야 한다.\n",
        "\n",
        "# 입력\n",
        "첫 줄에 영어 대소문자와 띄어쓰기로 이루어진 문자열이 주어진다. 이 문자열의 길이는 1,000,000을 넘지 않는다. 단어는 띄어쓰기 한 개로 구분되며, 공백이 연속해서 나오는 경우는 없다. 또한 문자열의 앞과 뒤에는 공백이 있을 수도 있다.\n",
        "\n",
        "# 출력\n",
        "첫째 줄에 단어의 개수를 출력한다."
      ]
    },
    {
      "cell_type": "code",
      "metadata": {
        "id": "FIUuKle9LvQL",
        "colab_type": "code",
        "outputId": "a0c6a279-58d5-42a3-f82c-8d310cc330b8",
        "colab": {
          "base_uri": "https://localhost:8080/",
          "height": 53
        }
      },
      "source": [
        "s = list(input().split())\n",
        "s = list(set(s))\n",
        "print(len(s))"
      ],
      "execution_count": 27,
      "outputs": [
        {
          "output_type": "stream",
          "text": [
            "Mazatneunde Wae Teullyeoyo Wae Mazatneunde\n",
            "3\n"
          ],
          "name": "stdout"
        }
      ]
    }
  ]
}