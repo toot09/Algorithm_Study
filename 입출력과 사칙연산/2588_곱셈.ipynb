{
  "nbformat": 4,
  "nbformat_minor": 0,
  "metadata": {
    "colab": {
      "name": "Untitled13.ipynb",
      "provenance": [],
      "collapsed_sections": [],
      "authorship_tag": "ABX9TyNDPgAoDwa5bPPHd+abJ+qv",
      "include_colab_link": true
    },
    "kernelspec": {
      "name": "python3",
      "display_name": "Python 3"
    }
  },
  "cells": [
    {
      "cell_type": "markdown",
      "metadata": {
        "id": "view-in-github",
        "colab_type": "text"
      },
      "source": [
        "<a href=\"https://colab.research.google.com/github/toot09/Algorithm_Study/blob/master/2588_%EA%B3%B1%EC%85%88.ipynb\" target=\"_parent\"><img src=\"https://colab.research.google.com/assets/colab-badge.svg\" alt=\"Open In Colab\"/></a>"
      ]
    },
    {
      "cell_type": "markdown",
      "metadata": {
        "id": "d7YVCr9hDwfw",
        "colab_type": "text"
      },
      "source": [
        "# (세 자리 수) × (세 자리 수)는 다음과 같은 과정을 통하여 이루어진다.\n",
        "\n",
        "# (1)과 (2)위치에 들어갈 세 자리 자연수가 주어질 때 (3), (4), (5), (6)위치에 들어갈 값을 구하는 프로그램을 작성하시오."
      ]
    },
    {
      "cell_type": "markdown",
      "metadata": {
        "id": "DwUfvoGkQu12",
        "colab_type": "text"
      },
      "source": [
        "**입력**\n",
        "\n",
        "첫째 줄에 (1)의 위치에 들어갈 세 자리 자연수가, 둘째 줄에 (2)의 위치에 들어갈 세자리 자연수가 주어진다.\n",
        "\n",
        "**출력**\n",
        "\n",
        "첫째 줄부터 넷째 줄까지 차례대로 (3), (4), (5), (6)에 들어갈 값을 출력한다."
      ]
    },
    {
      "cell_type": "code",
      "metadata": {
        "id": "nBWlwscVDq_x",
        "colab_type": "code",
        "colab": {
          "base_uri": "https://localhost:8080/",
          "height": 125
        },
        "outputId": "969cae64-aa33-4d01-dcf1-0d658c47df64"
      },
      "source": [
        "X = int(input())\n",
        "Y = int(input())\n",
        "a = int(Y/100)\n",
        "b = int(Y/10)%10\n",
        "c = int(Y%10)\n",
        "print(X*c)\n",
        "print(X*b)\n",
        "print(X*a)\n",
        "print(X*Y)"
      ],
      "execution_count": 40,
      "outputs": [
        {
          "output_type": "stream",
          "text": [
            "472\n",
            "385\n",
            "2360\n",
            "3776\n",
            "1416\n",
            "181720\n"
          ],
          "name": "stdout"
        }
      ]
    }
  ]
}
