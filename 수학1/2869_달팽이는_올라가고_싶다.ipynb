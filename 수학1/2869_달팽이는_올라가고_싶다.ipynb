{
  "nbformat": 4,
  "nbformat_minor": 0,
  "metadata": {
    "colab": {
      "name": "Untitled31.ipynb",
      "provenance": [],
      "authorship_tag": "ABX9TyP9iQdwKhZ/2rHNFPLIJrIR",
      "include_colab_link": true
    },
    "kernelspec": {
      "name": "python3",
      "display_name": "Python 3"
    }
  },
  "cells": [
    {
      "cell_type": "markdown",
      "metadata": {
        "id": "view-in-github",
        "colab_type": "text"
      },
      "source": [
        "<a href=\"https://colab.research.google.com/github/toot09/Algorithm_Study/blob/master/%EC%88%98%ED%95%991/2869_%EB%8B%AC%ED%8C%BD%EC%9D%B4%EB%8A%94_%EC%98%AC%EB%9D%BC%EA%B0%80%EA%B3%A0_%EC%8B%B6%EB%8B%A4.ipynb\" target=\"_parent\"><img src=\"https://colab.research.google.com/assets/colab-badge.svg\" alt=\"Open In Colab\"/></a>"
      ]
    },
    {
      "cell_type": "markdown",
      "metadata": {
        "id": "fDRl8xebroF-",
        "colab_type": "text"
      },
      "source": [
        "# 문제\n",
        "땅 위에 달팽이가 있다. 이 달팽이는 높이가 V미터인 나무 막대를 올라갈 것이다.\n",
        "\n",
        "달팽이는 낮에 A미터 올라갈 수 있다. 하지만, 밤에 잠을 자는 동안 B미터 미끄러진다. 또, 정상에 올라간 후에는 미끄러지지 않는다.\n",
        "\n",
        "달팽이가 나무 막대를 모두 올라가려면, 며칠이 걸리는지 구하는 프로그램을 작성하시오.\n",
        "\n",
        "# 입력\n",
        "첫째 줄에 세 정수 A, B, V가 공백으로 구분되어서 주어진다. (1 ≤ B < A ≤ V ≤ 1,000,000,000)\n",
        "\n",
        "# 출력\n",
        "첫째 줄에 달팽이가 나무 막대를 모두 올라가는데 며칠이 걸리는지 출력한다."
      ]
    },
    {
      "cell_type": "code",
      "metadata": {
        "id": "zqpnnZ0rrRNU",
        "colab_type": "code",
        "outputId": "dd64a8d1-4861-4e1e-c21f-a9fe8d5f7d1e",
        "colab": {
          "base_uri": "https://localhost:8080/",
          "height": 53
        }
      },
      "source": [
        "import math\n",
        "A,B,V = map(int,input().split())\n",
        "print(math.ceil((V-A)/(A-B))+1)"
      ],
      "execution_count": 11,
      "outputs": [
        {
          "output_type": "stream",
          "text": [
            "3 1 8\n",
            "4\n"
          ],
          "name": "stdout"
        }
      ]
    }
  ]
}