{
  "nbformat": 4,
  "nbformat_minor": 0,
  "metadata": {
    "colab": {
      "name": "Untitled20.ipynb",
      "provenance": [],
      "authorship_tag": "ABX9TyPGq4Djzz1WQywiwm/POJn/",
      "include_colab_link": true
    },
    "kernelspec": {
      "name": "python3",
      "display_name": "Python 3"
    }
  },
  "cells": [
    {
      "cell_type": "markdown",
      "metadata": {
        "id": "view-in-github",
        "colab_type": "text"
      },
      "source": [
        "<a href=\"https://colab.research.google.com/github/toot09/Algorithm_Study/blob/master/%EC%8B%A4%EC%8A%B51/(%EB%AF%B8%EC%99%84%EB%A3%8C)%EB%B3%84%EC%B0%8D%EA%B8%B0-21.ipynb\" target=\"_parent\"><img src=\"https://colab.research.google.com/assets/colab-badge.svg\" alt=\"Open In Colab\"/></a>"
      ]
    },
    {
      "cell_type": "markdown",
      "metadata": {
        "id": "LVPEIsY3kjnr",
        "colab_type": "text"
      },
      "source": [
        "# 문제\n",
        "예제를 보고 규칙을 유추한 뒤에 별을 찍어 보세요.\n",
        "\n",
        "# 입력\n",
        "첫째 줄에 N(1 ≤ N ≤ 100)이 주어진다.\n",
        "\n",
        "# 출력\n",
        "첫째 줄부터 차례대로 별을 출력한다."
      ]
    },
    {
      "cell_type": "code",
      "metadata": {
        "id": "jblXBWPUkiJV",
        "colab_type": "code",
        "outputId": "60587a17-c232-4a52-ab5c-d48d7bf766bc",
        "colab": {
          "base_uri": "https://localhost:8080/",
          "height": 71
        }
      },
      "source": [
        "x = int(input())\n",
        "\n",
        "#* *\n",
        "# *\n",
        "\n",
        "t = int(x/2) #가로로 나머지만큼\n",
        "n = x%2 #나머지는 위에 한개더\n",
        "i = 0\n",
        "j = 0\n",
        "\n",
        "\n",
        "while(True):\n",
        "  print('*', end='')\n",
        "  i = i+1\n",
        "  if(i==t+n):\n",
        "    break\n",
        "  print(' ',end='')\n",
        "print()\n",
        "while(True):\n",
        "  print(' *', end='')\n",
        "  j = j+1\n",
        "  if(j==t):\n",
        "    break\n",
        "\n",
        "\n",
        "\n"
      ],
      "execution_count": 41,
      "outputs": [
        {
          "output_type": "stream",
          "text": [
            "5\n",
            "* * *\n",
            " * *"
          ],
          "name": "stdout"
        }
      ]
    }
  ]
}