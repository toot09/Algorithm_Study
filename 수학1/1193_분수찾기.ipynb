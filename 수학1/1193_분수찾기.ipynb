{
  "nbformat": 4,
  "nbformat_minor": 0,
  "metadata": {
    "colab": {
      "name": "Untitled31.ipynb",
      "provenance": [],
      "authorship_tag": "ABX9TyP1CS4EEslrei4Ixl7fHBno",
      "include_colab_link": true
    },
    "kernelspec": {
      "name": "python3",
      "display_name": "Python 3"
    }
  },
  "cells": [
    {
      "cell_type": "markdown",
      "metadata": {
        "id": "view-in-github",
        "colab_type": "text"
      },
      "source": [
        "<a href=\"https://colab.research.google.com/github/toot09/Algorithm_Study/blob/master/%EC%88%98%ED%95%991/1193_%EB%B6%84%EC%88%98%EC%B0%BE%EA%B8%B0.ipynb\" target=\"_parent\"><img src=\"https://colab.research.google.com/assets/colab-badge.svg\" alt=\"Open In Colab\"/></a>"
      ]
    },
    {
      "cell_type": "markdown",
      "metadata": {
        "id": "fDRl8xebroF-",
        "colab_type": "text"
      },
      "source": [
        "# 문제\n",
        "무한히 큰 배열에 다음과 같이 분수들이 적혀있다.\n",
        "\n",
        "* 1/1\t1/2\t1/3\t1/4\t1/5\t…\n",
        "* 2/1\t2/2\t2/3\t2/4\t…\t…\n",
        "* 3/1\t3/2\t3/3\t…\t…\t…\n",
        "* 4/1\t4/2\t…\t…\t…\t…\n",
        "* 5/1\t…\t…\t…\t…\t…\n",
        "* …\t…\t…\t…\t…\t…\n",
        "\n",
        "이와 같이 나열된 분수들을 1/1 -> 1/2 -> 2/1 -> 3/1 -> 2/2 -> … 과 같은 지그재그 순서로 차례대로 1번, 2번, 3번, 4번, 5번, … 분수라고 하자.\n",
        "\n",
        "X가 주어졌을 때, X번째 분수를 구하는 프로그램을 작성하시오.\n",
        "\n",
        "# 입력\n",
        "첫째 줄에 X(1 ≤ X ≤ 10,000,000)가 주어진다.\n",
        "\n",
        "# 출력\n",
        "첫째 줄에 분수를 출력한다."
      ]
    },
    {
      "cell_type": "markdown",
      "metadata": {
        "id": "E3jrSLL61XLG",
        "colab_type": "text"
      },
      "source": [
        "* 1  2   4  7 11 16\n",
        "* 3  5   8 12 17\n",
        "* 6  9  13 18\n",
        "* 10 14 19\n",
        "* 15 20\n",
        "* 21"
      ]
    },
    {
      "cell_type": "code",
      "metadata": {
        "id": "zqpnnZ0rrRNU",
        "colab_type": "code",
        "outputId": "4083e883-911d-4bd8-815a-c96c7cce931b",
        "colab": {
          "base_uri": "https://localhost:8080/",
          "height": 53
        }
      },
      "source": [
        "a = int(input())\n",
        "x = 1\n",
        "x_ = 0\n",
        "break_xy = [False,False]\n",
        "while(True):\n",
        "  x += x_\n",
        "  x_ += 1\n",
        "  chk = x\n",
        "  for i in range(x_):\n",
        "    chk += (x_+1)*i\n"
      ],
      "execution_count": 0,
      "outputs": [
        {
          "output_type": "stream",
          "text": [
            "300 40 4\n",
            "-1\n"
          ],
          "name": "stdout"
        }
      ]
    }
  ]
}