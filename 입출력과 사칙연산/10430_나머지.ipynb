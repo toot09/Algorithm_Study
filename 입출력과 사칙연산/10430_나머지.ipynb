{
  "nbformat": 4,
  "nbformat_minor": 0,
  "metadata": {
    "colab": {
      "name": "Untitled13.ipynb",
      "provenance": [],
      "authorship_tag": "ABX9TyPNa5HWXSpgw0mWcKpBzvgT",
      "include_colab_link": true
    },
    "kernelspec": {
      "name": "python3",
      "display_name": "Python 3"
    }
  },
  "cells": [
    {
      "cell_type": "markdown",
      "metadata": {
        "id": "view-in-github",
        "colab_type": "text"
      },
      "source": [
        "<a href=\"https://colab.research.google.com/github/toot09/Algorithm_Study/blob/master/10430_%EB%82%98%EB%A8%B8%EC%A7%80.ipynb\" target=\"_parent\"><img src=\"https://colab.research.google.com/assets/colab-badge.svg\" alt=\"Open In Colab\"/></a>"
      ]
    },
    {
      "cell_type": "markdown",
      "metadata": {
        "id": "d7YVCr9hDwfw",
        "colab_type": "text"
      },
      "source": [
        "# (A+B)%C는 (A%C + B%C)%C 와 같을까?\n",
        "\n",
        "# (A×B)%C는 (A%C × B%C)%C 와 같을까?\n",
        "\n",
        "# 세 수 A, B, C가 주어졌을 때, 위의 네 가지 값을 구하는 프로그램을 작성하시오."
      ]
    },
    {
      "cell_type": "markdown",
      "metadata": {
        "id": "DwUfvoGkQu12",
        "colab_type": "text"
      },
      "source": [
        "**입력**\n",
        "\n",
        "첫째 줄에 A, B, C가 순서대로 주어진다. (2 ≤ A, B, C ≤ 10000)\n",
        "\n",
        "\n",
        "**출력**\n",
        "\n",
        "첫째 줄에 (A+B)%C, 둘째 줄에 (A%C + B%C)%C, 셋째 줄에 (A×B)%C, 넷째 줄에 (A%C × B%C)%C를 출력한다."
      ]
    },
    {
      "cell_type": "code",
      "metadata": {
        "id": "nBWlwscVDq_x",
        "colab_type": "code",
        "colab": {
          "base_uri": "https://localhost:8080/",
          "height": 35
        },
        "outputId": "3bb9af9d-93d5-41f6-8c36-fda7dd209937"
      },
      "source": [
        "A, B, C = map(int,input().split())\n",
        "print((A+B)%C)\n",
        "print((A%C + B%C)%C)\n",
        "print((A*B)%C)\n",
        "print((A%C * B%C)%C)"
      ],
      "execution_count": 22,
      "outputs": [
        {
          "output_type": "stream",
          "text": [
            "3 1 12\n"
          ],
          "name": "stdout"
        }
      ]
    }
  ]
}
