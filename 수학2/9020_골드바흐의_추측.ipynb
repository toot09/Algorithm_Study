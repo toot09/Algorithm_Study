{
  "nbformat": 4,
  "nbformat_minor": 0,
  "metadata": {
    "colab": {
      "name": "백준테스트파일.ipynb",
      "provenance": [],
      "collapsed_sections": [],
      "authorship_tag": "ABX9TyNfUU8e0QRipdHzFNM9Eliv",
      "include_colab_link": true
    },
    "kernelspec": {
      "name": "python3",
      "display_name": "Python 3"
    }
  },
  "cells": [
    {
      "cell_type": "markdown",
      "metadata": {
        "id": "view-in-github",
        "colab_type": "text"
      },
      "source": [
        "<a href=\"https://colab.research.google.com/github/toot09/Algorithm_Study/blob/master/%EC%88%98%ED%95%992/9020_%EA%B3%A8%EB%93%9C%EB%B0%94%ED%9D%90%EC%9D%98_%EC%B6%94%EC%B8%A1.ipynb\" target=\"_parent\"><img src=\"https://colab.research.google.com/assets/colab-badge.svg\" alt=\"Open In Colab\"/></a>"
      ]
    },
    {
      "cell_type": "markdown",
      "metadata": {
        "id": "0vxcyhbFQ4oN",
        "colab_type": "text"
      },
      "source": [
        "# 문제\n",
        "1보다 큰 자연수 중에서  1과 자기 자신을 제외한 약수가 없는 자연수를 소수라고 한다. 예를 들어, 5는 1과 5를 제외한 약수가 없기 때문에 소수이다. 하지만, 6은 6 = 2 × 3 이기 때문에 소수가 아니다.\n",
        "\n",
        "골드바흐의 추측은 유명한 정수론의 미해결 문제로, 2보다 큰 모든 짝수는 두 소수의 합으로 나타낼 수 있다는 것이다. 이러한 수를 골드바흐 수라고 한다. 또, 짝수를 두 소수의 합으로 나타내는 표현을 그 수의 골드바흐 파티션이라고 한다. 예를 들면, 4 = 2 + 2, 6 = 3 + 3, 8 = 3 + 5, 10 = 5 + 5, 12 = 5 + 7, 14 = 3 + 11, 14 = 7 + 7이다. 10000보다 작거나 같은 모든 짝수 n에 대한 골드바흐 파티션은 존재한다.\n",
        "\n",
        "2보다 큰 짝수 n이 주어졌을 때, n의 골드바흐 파티션을 출력하는 프로그램을 작성하시오. 만약 가능한 n의 골드바흐 파티션이 여러 가지인 경우에는 두 소수의 차이가 가장 작은 것을 출력한다.\n",
        "\n",
        "# 입력\n",
        "첫째 줄에 테스트 케이스의 개수 T가 주어진다. 각 테스트 케이스는 한 줄로 이루어져 있고 짝수 n이 주어진다. (4 ≤ n ≤ 10,000)\n",
        "\n",
        "# 출력\n",
        "각 테스트 케이스에 대해서 주어진 n의 골드바흐 파티션을 출력한다. 출력하는 소수는 작은 것부터 먼저 출력하며, 공백으로 구분한다."
      ]
    },
    {
      "cell_type": "code",
      "metadata": {
        "id": "GcEpPc_0nRxa",
        "colab_type": "code",
        "colab": {
          "base_uri": "https://localhost:8080/",
          "height": 143
        },
        "outputId": "40ef4915-3b91-4668-95de-82c9650a2d04"
      },
      "source": [
        "def primeList(n):\n",
        "  n += 1\n",
        "  lst = [True]*n\n",
        "  for i in range(2,int(n**0.5)+1):\n",
        "    if lst[i]:\n",
        "      for j in range(i+i,n,i):\n",
        "        lst[j] = False\n",
        "  return [x for x in range(2,n) if lst[x]]\n",
        "\n",
        "lst = primeList(10000)\n",
        "for _ in range(int(input())):\n",
        "  n = int(input())\n",
        "  stdDown = n//2\n",
        "  stdUp = n//2\n",
        "  while True:\n",
        "    if stdDown + stdUp == n and stdDown in lst and stdUp in lst:\n",
        "      print(stdDown,stdUp)\n",
        "      break\n",
        "    stdDown -= 1\n",
        "    stdUp += 1"
      ],
      "execution_count": 42,
      "outputs": [
        {
          "output_type": "stream",
          "text": [
            "3\n",
            "10000\n",
            "4919 5081\n",
            "500\n",
            "229 271\n",
            "300\n",
            "149 151\n"
          ],
          "name": "stdout"
        }
      ]
    },
    {
      "cell_type": "code",
      "metadata": {
        "id": "Qwlm2ePOs6Kk",
        "colab_type": "code",
        "outputId": "bd820b4e-86df-4006-b432-644266abc37a",
        "colab": {
          "base_uri": "https://localhost:8080/",
          "height": 125
        }
      },
      "source": [
        "# 시간초과\n",
        "def prime(n):\n",
        "  n += 1\n",
        "  lst = [True]*n\n",
        "  for i in range(2, int(n**0.5)+1):\n",
        "    if lst[i]:\n",
        "      for j in range(i+i,n,i):\n",
        "        lst[j] = False\n",
        "  return [x for x in range(2,n) if lst[x]]\n",
        "\n",
        "lst = prime(10000)\n",
        "\n",
        "T = int(input())\n",
        "for _ in range(T):\n",
        "  x = int(input())\n",
        "  std = 0\n",
        "  for a in range(x//2,0,-1):\n",
        "    try:\n",
        "      std = lst.index(a)\n",
        "      break\n",
        "    except:\n",
        "      pass\n",
        "  for i in range(std,0,-1):\n",
        "    if lst.count(x-lst[i])>0:\n",
        "      print(lst[i],x-lst[i])\n",
        "      break"
      ],
      "execution_count": 30,
      "outputs": [
        {
          "output_type": "stream",
          "text": [
            "3\n",
            "0\n",
            "10000\n",
            "4919 5081\n",
            "10\n",
            "5 5\n"
          ],
          "name": "stdout"
        }
      ]
    }
  ]
}