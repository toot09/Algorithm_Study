{
  "nbformat": 4,
  "nbformat_minor": 0,
  "metadata": {
    "colab": {
      "name": "Untitled14.ipynb",
      "provenance": [],
      "authorship_tag": "ABX9TyPSqPb46z/uO6cH4lqWBDnT",
      "include_colab_link": true
    },
    "kernelspec": {
      "name": "python3",
      "display_name": "Python 3"
    }
  },
  "cells": [
    {
      "cell_type": "markdown",
      "metadata": {
        "id": "view-in-github",
        "colab_type": "text"
      },
      "source": [
        "<a href=\"https://colab.research.google.com/github/toot09/Algorithm_Study/blob/master/%EC%98%A4%EB%A6%84%EC%B0%A8%EC%88%9C.ipynb\" target=\"_parent\"><img src=\"https://colab.research.google.com/assets/colab-badge.svg\" alt=\"Open In Colab\"/></a>"
      ]
    },
    {
      "cell_type": "markdown",
      "metadata": {
        "id": "gvuQDuruAg_n",
        "colab_type": "text"
      },
      "source": [
        "# 오름차순"
      ]
    },
    {
      "cell_type": "code",
      "metadata": {
        "id": "BALBTqO1_ksK",
        "colab_type": "code",
        "colab": {
          "base_uri": "https://localhost:8080/",
          "height": 35
        },
        "outputId": "fa06e527-da31-4423-8f37-9c9d185d98fa"
      },
      "source": [
        "a = [5,1,34,6,14,7,10,3,64,-6]\n",
        "\n",
        "for i in range(10):\n",
        "  min = 999999999\n",
        "  idx = 0\n",
        "  for j in range(i,10):\n",
        "    if min > a[j]:\n",
        "      min = a[j]\n",
        "      idx = j\n",
        "  tmp = a[i]\n",
        "  a[i] = min\n",
        "  a[idx] = tmp\n",
        "      \n",
        "print(a)"
      ],
      "execution_count": 9,
      "outputs": [
        {
          "output_type": "stream",
          "text": [
            "[-6, 1, 3, 5, 6, 7, 10, 14, 34, 64]\n"
          ],
          "name": "stdout"
        }
      ]
    },
    {
      "cell_type": "code",
      "metadata": {
        "id": "G7AnicEBAk0g",
        "colab_type": "code",
        "colab": {
          "base_uri": "https://localhost:8080/",
          "height": 35
        },
        "outputId": "a9130632-5854-4b9d-dba6-72f1284e18d1"
      },
      "source": [
        "import numpy as np\n",
        "a = [5,1,34,6,14,7,10,3,64,-6]\n",
        "print(np.sort(a))"
      ],
      "execution_count": 7,
      "outputs": [
        {
          "output_type": "stream",
          "text": [
            "[-6  1  3  5  6  7 10 14 34 64]\n"
          ],
          "name": "stdout"
        }
      ]
    }
  ]
}
