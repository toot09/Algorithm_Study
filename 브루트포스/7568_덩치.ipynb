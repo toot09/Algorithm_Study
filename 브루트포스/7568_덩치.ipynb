{
  "nbformat": 4,
  "nbformat_minor": 0,
  "metadata": {
    "colab": {
      "name": "백준테스트파일.ipynb",
      "provenance": [],
      "collapsed_sections": [],
      "authorship_tag": "ABX9TyM1LsF0fQojlsPmdlT56lQ9",
      "include_colab_link": true
    },
    "kernelspec": {
      "name": "python3",
      "display_name": "Python 3"
    }
  },
  "cells": [
    {
      "cell_type": "markdown",
      "metadata": {
        "id": "view-in-github",
        "colab_type": "text"
      },
      "source": [
        "<a href=\"https://colab.research.google.com/github/toot09/Algorithm_Study/blob/master/%EB%B8%8C%EB%A3%A8%ED%8A%B8%ED%8F%AC%EC%8A%A4/7568_%EB%8D%A9%EC%B9%98.ipynb\" target=\"_parent\"><img src=\"https://colab.research.google.com/assets/colab-badge.svg\" alt=\"Open In Colab\"/></a>"
      ]
    },
    {
      "cell_type": "markdown",
      "metadata": {
        "id": "0vxcyhbFQ4oN",
        "colab_type": "text"
      },
      "source": [
        "# 문제\n",
        "우리는 사람의 덩치를 키와 몸무게, 이 두 개의 값으로 표현하여 그 등수를 매겨보려고 한다. 어떤 사람의 몸무게가 x kg이고 키가 y cm라면 이 사람의 덩치는 (x,y)로 표시된다. 두 사람 A 와 B의 덩치가 각각 (x,y), (p,q)라고 할 때 x>p 그리고 y>q 이라면 우리는 A의 덩치가 B의 덩치보다 \"더 크다\"고 말한다. 예를 들어 어떤 A, B 두 사람의 덩치가 각각 (56,177), (45,165) 라고 한다면 A의 덩치가 B보다 큰 셈이 된다. 그런데 서로 다른 덩치끼리 크기를 정할 수 없는 경우도 있다. 예를 들어 두 사람 C와 D의 덩치가 각각 (45, 181), (55,173)이라면 몸무게는 D가 C보다 더 무겁고, 키는 C가 더 크므로, \"덩치\"로만 볼 때 C와 D는 누구도 상대방보다 더 크다고 말할 수 없다.\n",
        "\n",
        "N명의 집단에서 각 사람의 덩치 등수는 자신보다 더 \"큰 덩치\"의 사람의 수로 정해진다. 만일 자신보다 더 큰 덩치의 사람이 k명이라면 그 사람의 덩치 등수는 k+1이 된다. 이렇게 등수를 결정하면 같은 덩치 등수를 가진 사람은 여러 명도 가능하다. 아래는 5명으로 이루어진 집단에서 각 사람의 덩치와 그 등수가 표시된 표이다.\n",
        "\n",
        "이름\t<몸무게, 키>\t덩치 등수\n",
        "A\t<55, 185>\t2\n",
        "B\t<58, 183>\t2\n",
        "C\t<88, 186>\t1\n",
        "D\t<60, 175>\t2\n",
        "E\t<46, 155>\t5\n",
        "위 표에서 C보다 더 큰 덩치의 사람이 없으므로 C는 1등이 된다. 그리고 A, B, D 각각의 덩치보다 큰 사람은 C뿐이므로 이들은 모두 2등이 된다. 그리고 E보다 큰 덩치는 A, B, C, D 이렇게 4명이므로 E의 덩치는 5등이 된다. 위 경우에 3등과 4등은 존재하지 않는다. 여러분은 학생 N명의 몸무게와 키가 담긴 입력을 읽어서 각 사람의 덩치 등수를 계산하여 출력해야 한다.\n",
        "\n",
        "# 입력\n",
        "첫 줄에는 전체 사람의 수 N이 주어진다. 그리고 이어지는 N개의 줄에는 각 사람의 몸무게와 키를 나타내는 양의 정수 x와 y가 하나의 공백을 두고 각각 나타난다. 단, 2 ≤ N ≤ 50, 10 ≤ x,y ≤ 200 이다.\n",
        "\n",
        "# 출력\n",
        "여러분은 입력에 나열된 사람의 덩치 등수를 구해서 그 순서대로 첫 줄에 출력해야 한다. 단, 각 덩치 등수는 공백문자로 분리되어야 한다."
      ]
    },
    {
      "cell_type": "code",
      "metadata": {
        "id": "DxUX-P80-UTu",
        "colab_type": "code",
        "colab": {
          "base_uri": "https://localhost:8080/",
          "height": 143
        },
        "outputId": "ae43d3c1-f488-4966-c4c7-51d5bb0714ad"
      },
      "source": [
        "#n = 5\n",
        "#x = [[55, 185], [58, 183], [88, 186], [60, 175], [46, 155]]\n",
        "x = []\n",
        "n = int(input())\n",
        "for i in range(n):\n",
        "  x.append( list(map(int,input().split())) )\n",
        "\n",
        "rank = []\n",
        "for i in x:\n",
        "  w = 1\n",
        "  h = 1\n",
        "  for j in x:\n",
        "    if i != j:\n",
        "      if i[0] < j[0]:\n",
        "        w += 1\n",
        "      if i[1] < j[1]:\n",
        "        h += 1\n",
        "  rank.append([w,h])\n",
        "\n",
        "rank_cnt = 1\n",
        "while(rank_cnt <= n):\n",
        "  for k in range(n):\n",
        "    max = 0\n",
        "    same = True\n",
        "    rank_plus = 0\n",
        "    if rank[k][0] == rank_cnt and rank[k][1] == rank_cnt and len(rank[k]) <= 2:\n",
        "      rank[k].append(rank_cnt)\n",
        "    elif rank[k][0] == rank_cnt or rank[k][1] == rank_cnt:\n",
        "      if max < rank[k][0]:\n",
        "        max = rank[k][0]\n",
        "      if max < rank[k][1]:\n",
        "        max = rank[k][1]\n",
        "      same = False\n",
        "    if(same):\n",
        "      rank_plus += 1\n",
        "    else:\n",
        "      for a in rank:\n",
        "        if (a[0] <= max or a[1] <= max) and len(a)<=2:\n",
        "          a.append(rank_cnt)\n",
        "          rank_plus += 1\n",
        "  rank_cnt += rank_plus\n",
        "\n",
        "for i in rank:\n",
        "  print(i[2],end=' ')\n"
      ],
      "execution_count": 93,
      "outputs": [
        {
          "output_type": "stream",
          "text": [
            "5\n",
            "55 185\n",
            "58 183\n",
            "88 186\n",
            "60 175\n",
            "46 155\n",
            "2 2 1 2 5 "
          ],
          "name": "stdout"
        }
      ]
    }
  ]
}