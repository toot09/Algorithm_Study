{
  "nbformat": 4,
  "nbformat_minor": 0,
  "metadata": {
    "colab": {
      "name": "Untitled22.ipynb",
      "provenance": [],
      "authorship_tag": "ABX9TyNRJmcw63eOYDMh6wUnJkeC",
      "include_colab_link": true
    },
    "kernelspec": {
      "name": "python3",
      "display_name": "Python 3"
    }
  },
  "cells": [
    {
      "cell_type": "markdown",
      "metadata": {
        "id": "view-in-github",
        "colab_type": "text"
      },
      "source": [
        "<a href=\"https://colab.research.google.com/github/toot09/Algorithm_Study/blob/master/%ED%95%A8%EC%88%98/1065_%ED%95%9C%EC%88%98.ipynb\" target=\"_parent\"><img src=\"https://colab.research.google.com/assets/colab-badge.svg\" alt=\"Open In Colab\"/></a>"
      ]
    },
    {
      "cell_type": "markdown",
      "metadata": {
        "id": "RhP8-A_BOfPD",
        "colab_type": "text"
      },
      "source": [
        "# 문제\n",
        "어떤 양의 정수 X의 각 자리가 등차수열을 이룬다면, 그 수를 한수라고 한다. 등차수열은 연속된 두 개의 수의 차이가 일정한 수열을 말한다. N이 주어졌을 때, 1보다 크거나 같고, N보다 작거나 같은 한수의 개수를 출력하는 프로그램을 작성하시오. \n",
        "\n",
        "# 입력\n",
        "첫째 줄에 1,000보다 작거나 같은 자연수 N이 주어진다.\n",
        "\n",
        "# 출력\n",
        "첫째 줄에 1보다 크거나 같고, N보다 작거나 같은 한수의 개수를 출력한다."
      ]
    },
    {
      "cell_type": "code",
      "metadata": {
        "id": "FIUuKle9LvQL",
        "colab_type": "code",
        "outputId": "05ed0ab4-3d8f-4d9e-9320-5aac7b211ab6",
        "colab": {
          "base_uri": "https://localhost:8080/",
          "height": 53
        }
      },
      "source": [
        "def ds(n):\n",
        "  if n < 100:\n",
        "    return n\n",
        "  result = 99\n",
        "  for i in range(100,n+1):\n",
        "    lst = list(str(i))\n",
        "    diff = int(lst[0]) - int(lst[1])\n",
        "    result += 1\n",
        "    for j in range(2,len(lst)):\n",
        "      if (int(lst[j-1]) - int(lst[j])) == diff:\n",
        "        pass\n",
        "      else :\n",
        "        result -= 1\n",
        "        break\n",
        "  return result\n",
        "\n",
        "input_num = int(input())\n",
        "print(ds(input_num))"
      ],
      "execution_count": 19,
      "outputs": [
        {
          "output_type": "stream",
          "text": [
            "746\n",
            "130\n"
          ],
          "name": "stdout"
        }
      ]
    },
    {
      "cell_type": "code",
      "metadata": {
        "id": "W5nY0kGurFcN",
        "colab_type": "code",
        "colab": {
          "base_uri": "https://localhost:8080/",
          "height": 53
        },
        "outputId": "0c85aaee-fecb-4e22-c569-ce0e4d56b7d0"
      },
      "source": [
        "def getHansu(num):\n",
        "  hansu = 0\n",
        "\n",
        "  for n in range(1, num+1) :\n",
        "      if n <= 99 : # 1부터 99까지는 모두 한수\n",
        "          hansu += 1 \n",
        "      \n",
        "      else :     \n",
        "          nums = list(map(int, str(n))) # 숫자를 자릿수대로 분리 \n",
        "          if nums[0] - nums[1] == nums[1] - nums[2] : #등차수열 확인\n",
        "              hansu+=1\n",
        "  return hansu\n",
        "\n",
        "print(getHansu(int(input())))"
      ],
      "execution_count": 20,
      "outputs": [
        {
          "output_type": "stream",
          "text": [
            "746\n",
            "130\n"
          ],
          "name": "stdout"
        }
      ]
    }
  ]
}