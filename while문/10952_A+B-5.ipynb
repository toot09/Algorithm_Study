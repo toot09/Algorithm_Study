{
  "nbformat": 4,
  "nbformat_minor": 0,
  "metadata": {
    "colab": {
      "name": "Untitled19.ipynb",
      "provenance": [],
      "authorship_tag": "ABX9TyOOyCxpo6uFIEA0wa7oa3a+",
      "include_colab_link": true
    },
    "kernelspec": {
      "name": "python3",
      "display_name": "Python 3"
    }
  },
  "cells": [
    {
      "cell_type": "markdown",
      "metadata": {
        "id": "view-in-github",
        "colab_type": "text"
      },
      "source": [
        "<a href=\"https://colab.research.google.com/github/toot09/Algorithm_Study/blob/master/while%EB%AC%B8/10952_A%2BB-5.ipynb\" target=\"_parent\"><img src=\"https://colab.research.google.com/assets/colab-badge.svg\" alt=\"Open In Colab\"/></a>"
      ]
    },
    {
      "cell_type": "markdown",
      "metadata": {
        "id": "egHrXB2AIG15",
        "colab_type": "text"
      },
      "source": [
        "# 문제\n",
        "두 정수 A와 B를 입력받은 다음, A+B를 출력하는 프로그램을 작성하시오.\n",
        "\n",
        "# 입력\n",
        "입력은 여러 개의 테스트 케이스로 이루어져 있다.\n",
        "\n",
        "각 테스트 케이스는 한 줄로 이루어져 있으며, 각 줄에 A와 B가 주어진다. (0 < A, B < 10)\n",
        "\n",
        "입력의 마지막에는 0 두 개가 들어온다.\n",
        "\n",
        "# 출력\n",
        "각 테스트 케이스마다 A+B를 출력한다."
      ]
    },
    {
      "cell_type": "code",
      "metadata": {
        "id": "krX-5fH7Ey-M",
        "colab_type": "code",
        "colab": {
          "base_uri": "https://localhost:8080/",
          "height": 107
        },
        "outputId": "29500fd8-fd2b-49b7-c25b-1d4d2671f8d1"
      },
      "source": [
        "c = True\n",
        "while(c):\n",
        "  a, b = map(int,input().split())\n",
        "  if a==0 and b==0:\n",
        "    break\n",
        "  else:\n",
        "    print(a+b)"
      ],
      "execution_count": 22,
      "outputs": [
        {
          "output_type": "stream",
          "text": [
            "1 1\n",
            "2\n",
            "2 3\n",
            "5\n",
            "0 0\n"
          ],
          "name": "stdout"
        }
      ]
    }
  ]
}