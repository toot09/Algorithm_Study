{
  "nbformat": 4,
  "nbformat_minor": 0,
  "metadata": {
    "colab": {
      "name": "Untitled16.ipynb",
      "provenance": [],
      "authorship_tag": "ABX9TyMU6xx/0zi/Ws87xfqAy5i6",
      "include_colab_link": true
    },
    "kernelspec": {
      "name": "python3",
      "display_name": "Python 3"
    }
  },
  "cells": [
    {
      "cell_type": "markdown",
      "metadata": {
        "id": "view-in-github",
        "colab_type": "text"
      },
      "source": [
        "<a href=\"https://colab.research.google.com/github/toot09/Algorithm_Study/blob/master/14681_%EC%82%AC%EB%B6%84%EB%A9%B4%EA%B3%A0%EB%A5%B4%EA%B8%B0.ipynb\" target=\"_parent\"><img src=\"https://colab.research.google.com/assets/colab-badge.svg\" alt=\"Open In Colab\"/></a>"
      ]
    },
    {
      "cell_type": "markdown",
      "metadata": {
        "id": "mTA-UMDLmTJO",
        "colab_type": "text"
      },
      "source": [
        "# 문제\n",
        "흔한 수학 문제 중 하나는 주어진 점이 어느 사분면에 속하는지 알아내는 것이다. 사분면은 아래 그림처럼 1부터 4까지 번호를 갖는다. \"Quadrant n\"은 \"제n사분면\"이라는 뜻이다.\n",
        "\n",
        "예를 들어, 좌표가 (12, 5)인 점 A는 x좌표와 y좌표가 모두 양수이므로 제1사분면에 속한다. 점 B는 x좌표가 음수이고 y좌표가 양수이므로 제2사분면에 속한다.\n",
        "\n",
        "점의 좌표를 입력받아 그 점이 어느 사분면에 속하는지 알아내는 프로그램을 작성하시오. 단, x좌표와 y좌표는 모두 양수나 음수라고 가정한다.\n",
        "\n",
        "# 입력\n",
        "첫 줄에는 정수 x가 주어진다. (−1000 ≤ x ≤ 1000; x ≠ 0) 다음 줄에는 정수 y가 주어진다. (−1000 ≤ y ≤ 1000; y ≠ 0)\n",
        "\n",
        "# 출력\n",
        "점 (x, y)의 사분면 번호(1, 2, 3, 4 중 하나)를 출력한다."
      ]
    },
    {
      "cell_type": "code",
      "metadata": {
        "id": "PbBmH1SamMRC",
        "colab_type": "code",
        "colab": {
          "base_uri": "https://localhost:8080/",
          "height": 71
        },
        "outputId": "945dca32-601e-414f-d5fc-5cc74b1d2b24"
      },
      "source": [
        "x = int(input())\n",
        "y = int(input())\n",
        "\n",
        "if x>0 and y>0:\n",
        "  print(1)\n",
        "elif x<0 and y>0:\n",
        "  print(2)\n",
        "elif x<0 and y<0:\n",
        "  print(3)\n",
        "else:\n",
        "  print(4)"
      ],
      "execution_count": 3,
      "outputs": [
        {
          "output_type": "stream",
          "text": [
            "9\n",
            "-13\n",
            "4\n"
          ],
          "name": "stdout"
        }
      ]
    }
  ]
}