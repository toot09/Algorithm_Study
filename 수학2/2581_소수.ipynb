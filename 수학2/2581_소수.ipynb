{
  "nbformat": 4,
  "nbformat_minor": 0,
  "metadata": {
    "colab": {
      "name": "Untitled31.ipynb",
      "provenance": [],
      "authorship_tag": "ABX9TyPbXAqZJdImZtHjwYIWPv1D",
      "include_colab_link": true
    },
    "kernelspec": {
      "name": "python3",
      "display_name": "Python 3"
    }
  },
  "cells": [
    {
      "cell_type": "markdown",
      "metadata": {
        "id": "view-in-github",
        "colab_type": "text"
      },
      "source": [
        "<a href=\"https://colab.research.google.com/github/toot09/Algorithm_Study/blob/master/%EC%88%98%ED%95%992/2581_%EC%86%8C%EC%88%98.ipynb\" target=\"_parent\"><img src=\"https://colab.research.google.com/assets/colab-badge.svg\" alt=\"Open In Colab\"/></a>"
      ]
    },
    {
      "cell_type": "markdown",
      "metadata": {
        "id": "fDRl8xebroF-",
        "colab_type": "text"
      },
      "source": [
        "# 문제\n",
        "자연수 M과 N이 주어질 때 M이상 N이하의 자연수 중 소수인 것을 모두 골라 이들 소수의 합과 최솟값을 찾는 프로그램을 작성하시오.\n",
        "\n",
        "예를 들어 M=60, N=100인 경우 60이상 100이하의 자연수 중 소수는 61, 67, 71, 73, 79, 83, 89, 97 총 8개가 있으므로, 이들 소수의 합은 620이고, 최솟값은 61이 된다.\n",
        "\n",
        "# 입력\n",
        "입력의 첫째 줄에 M이, 둘째 줄에 N이 주어진다.\n",
        "\n",
        "M과 N은 10,000이하의 자연수이며, M은 N보다 작거나 같다.\n",
        "\n",
        "# 출력\n",
        "M이상 N이하의 자연수 중 소수인 것을 모두 찾아 첫째 줄에 그 합을, 둘째 줄에 그 중 최솟값을 출력한다. \n",
        "\n",
        "단, M이상 N이하의 자연수 중 소수가 없을 경우는 첫째 줄에 -1을 출력한다."
      ]
    },
    {
      "cell_type": "code",
      "metadata": {
        "id": "zqpnnZ0rrRNU",
        "colab_type": "code",
        "outputId": "b4bc0288-8191-451d-aba3-516fe1cfd07a",
        "colab": {
          "base_uri": "https://localhost:8080/",
          "height": 89
        }
      },
      "source": [
        "M = int(input())\n",
        "N = int(input())\n",
        "sum = 0\n",
        "min = 0\n",
        "for i in range(M,N+1):\n",
        "  cnt = 0\n",
        "  for j in range(1,i+1):\n",
        "    if i%j==0:\n",
        "      cnt += 1\n",
        "    if cnt > 2:\n",
        "      break\n",
        "  if cnt == 2:\n",
        "    sum += i\n",
        "    if min < 1:\n",
        "      min = i\n",
        "if min >= 2:\n",
        "  print(sum)\n",
        "  print(min)\n",
        "else:\n",
        "  print(-1)"
      ],
      "execution_count": 2,
      "outputs": [
        {
          "output_type": "stream",
          "text": [
            "1\n",
            "100\n",
            "1060\n",
            "2\n"
          ],
          "name": "stdout"
        }
      ]
    },
    {
      "cell_type": "code",
      "metadata": {
        "id": "5HWhDH3FqCEh",
        "colab_type": "code",
        "colab": {
          "base_uri": "https://localhost:8080/",
          "height": 89
        },
        "outputId": "d76bf4e3-1e47-4a74-8bcb-11b105a2e5fd"
      },
      "source": [
        "def prime(n):\n",
        "    if n == 1:\n",
        "        return 0\n",
        "    else:\n",
        "        for i in range(2, int(n**(1/2))+1):\n",
        "            if n % i == 0:\n",
        "                return 0\n",
        "        return 1\n",
        "\n",
        "M = int(input())\n",
        "N = int(input())\n",
        "prime_list = []\n",
        "for i in range(M, N+1):\n",
        "    if prime(i) == 1:\n",
        "      prime_list.append(i)\n",
        "if sum(prime_list)==0:\n",
        "    print(-1)\n",
        "else:\n",
        "    print(sum(prime_list))\n",
        "    print(min(prime_list))"
      ],
      "execution_count": 1,
      "outputs": [
        {
          "output_type": "stream",
          "text": [
            "1\n",
            "100\n",
            "1060\n",
            "2\n"
          ],
          "name": "stdout"
        }
      ]
    }
  ]
}