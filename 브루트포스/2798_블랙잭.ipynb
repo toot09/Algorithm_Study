{
  "nbformat": 4,
  "nbformat_minor": 0,
  "metadata": {
    "colab": {
      "name": "백준테스트파일.ipynb",
      "provenance": [],
      "collapsed_sections": [],
      "authorship_tag": "ABX9TyNlq5u3OV901vUP2MmKL8Wt",
      "include_colab_link": true
    },
    "kernelspec": {
      "name": "python3",
      "display_name": "Python 3"
    }
  },
  "cells": [
    {
      "cell_type": "markdown",
      "metadata": {
        "id": "view-in-github",
        "colab_type": "text"
      },
      "source": [
        "<a href=\"https://colab.research.google.com/github/toot09/Algorithm_Study/blob/master/%EB%B8%8C%EB%A3%A8%ED%8A%B8%ED%8F%AC%EC%8A%A4/2798_%EB%B8%94%EB%9E%99%EC%9E%AD.ipynb\" target=\"_parent\"><img src=\"https://colab.research.google.com/assets/colab-badge.svg\" alt=\"Open In Colab\"/></a>"
      ]
    },
    {
      "cell_type": "markdown",
      "metadata": {
        "id": "0vxcyhbFQ4oN",
        "colab_type": "text"
      },
      "source": [
        "# 문제\n",
        "카지노에서 제일 인기 있는 게임 블랙잭의 규칙은 상당히 쉽다. 카드의 합이 21을 넘지 않는 한도 내에서, 카드의 합을 최대한 크게 만드는 게임이다. 블랙잭은 카지노마다 다양한 규정이 있다.\n",
        "\n",
        "한국 최고의 블랙잭 고수 김정인은 새로운 블랙잭 규칙을 만들어 상근, 창영이와 게임하려고 한다.\n",
        "\n",
        "김정인 버전의 블랙잭에서 각 카드에는 양의 정수가 쓰여 있다. 그 다음, 딜러는 N장의 카드를 모두 숫자가 보이도록 바닥에 놓는다. 그런 후에 딜러는 숫자 M을 크게 외친다.\n",
        "\n",
        "이제 플레이어는 제한된 시간 안에 N장의 카드 중에서 3장의 카드를 골라야 한다. 블랙잭 변형 게임이기 때문에, 플레이어가 고른 카드의 합은 M을 넘지 않으면서 M과 최대한 가깝게 만들어야 한다.\n",
        "\n",
        "N장의 카드에 써져 있는 숫자가 주어졌을 때, M을 넘지 않으면서 M에 최대한 가까운 카드 3장의 합을 구해 출력하시오.\n",
        "\n",
        "# 입력\n",
        "첫째 줄에 카드의 개수 N(3 ≤ N ≤ 100)과 M(10 ≤ M ≤ 300,000)이 주어진다. 둘째 줄에는 카드에 쓰여 있는 수가 주어지며, 이 값은 100,000을 넘지 않는다.\n",
        "\n",
        "합이 M을 넘지 않는 카드 3장을 찾을 수 있는 경우만 입력으로 주어진다.\n",
        "\n",
        "# 출력\n",
        "첫째 줄에 M을 넘지 않으면서 M에 최대한 가까운 카드 3장의 합을 출력한다."
      ]
    },
    {
      "cell_type": "code",
      "metadata": {
        "id": "2GwC0LASkdho",
        "colab_type": "code",
        "outputId": "79b0714e-ed50-4e70-9b0a-5a190d9e3899",
        "colab": {
          "base_uri": "https://localhost:8080/",
          "height": 71
        }
      },
      "source": [
        "N, M = map(int,input().split())\n",
        "lst = list(map(int,input().split()))\n",
        "lst.sort(reverse = True)\n",
        "result = 0\n",
        "for i in range(len(lst)-2):\n",
        "  if (lst[i] >= M):\n",
        "    break\n",
        "  for j in range(i+1,len(lst)-1):\n",
        "    if (lst[i]+lst[j] >= M):\n",
        "      break\n",
        "    for k in range(j+1,len(lst)):\n",
        "      chk = lst[i]+lst[j]+lst[k]\n",
        "      if(M-chk < M-result and M-chk >=0):\n",
        "        result = chk\n",
        "print(result)\n"
      ],
      "execution_count": 16,
      "outputs": [
        {
          "output_type": "stream",
          "text": [
            "10 500\n",
            "93 181 245 214 315 36 185 138 216 295\n",
            "497\n"
          ],
          "name": "stdout"
        }
      ]
    }
  ]
}