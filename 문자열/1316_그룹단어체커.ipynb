{
  "nbformat": 4,
  "nbformat_minor": 0,
  "metadata": {
    "colab": {
      "name": "Untitled30.ipynb",
      "provenance": [],
      "authorship_tag": "ABX9TyOO3m66DYzDGQRNFcjYh3F1",
      "include_colab_link": true
    },
    "kernelspec": {
      "name": "python3",
      "display_name": "Python 3"
    }
  },
  "cells": [
    {
      "cell_type": "markdown",
      "metadata": {
        "id": "view-in-github",
        "colab_type": "text"
      },
      "source": [
        "<a href=\"https://colab.research.google.com/github/toot09/Algorithm_Study/blob/master/%EB%AC%B8%EC%9E%90%EC%97%B4/1316_%EA%B7%B8%EB%A3%B9%EB%8B%A8%EC%96%B4%EC%B2%B4%EC%BB%A4.ipynb\" target=\"_parent\"><img src=\"https://colab.research.google.com/assets/colab-badge.svg\" alt=\"Open In Colab\"/></a>"
      ]
    },
    {
      "cell_type": "markdown",
      "metadata": {
        "id": "wxhcYEAmp9zj",
        "colab_type": "text"
      },
      "source": [
        "# 문제\n",
        "그룹 단어란 단어에 존재하는 모든 문자에 대해서, 각 문자가 연속해서 나타나는 경우만을 말한다. 예를 들면, ccazzzzbb는 c, a, z, b가 모두 연속해서 나타나고, kin도 k, i, n이 연속해서 나타나기 때문에 그룹 단어이지만, aabbbccb는 b가 떨어져서 나타나기 때문에 그룹 단어가 아니다.\n",
        "\n",
        "단어 N개를 입력으로 받아 그룹 단어의 개수를 출력하는 프로그램을 작성하시오.\n",
        "\n",
        "# 입력\n",
        "첫째 줄에 단어의 개수 N이 들어온다. N은 100보다 작거나 같은 자연수이다. 둘째 줄부터 N개의 줄에 단어가 들어온다. 단어는 알파벳 소문자로만 되어있고 중복되지 않으며, 길이는 최대 100이다.\n",
        "\n",
        "# 출력\n",
        "첫째 줄에 그룹 단어의 개수를 출력한다."
      ]
    },
    {
      "cell_type": "code",
      "metadata": {
        "id": "UwKEnJ89p7X4",
        "colab_type": "code",
        "colab": {}
      },
      "source": [
        "x = int(input())\n",
        "lst = []\n",
        "for i in range(x):\n",
        "  lst.append(input())\n",
        "\n",
        "a = ord('a')\n",
        "result = x\n",
        "\n",
        "for input in lst:\n",
        "  for i in range(26):\n",
        "    if input.count(chr(a+i)) <= 1:\n",
        "      input = input.replace(chr(a+i),'*')\n",
        "    else:\n",
        "      first = input.find(chr(a+i))\n",
        "      bef = first\n",
        "      time = 1\n",
        "      input = input.replace(chr(a+i),'*',time)\n",
        "      while(True):\n",
        "        aft = input.find(chr(a+i))\n",
        "        if aft < 0:\n",
        "          break\n",
        "        if aft-bef > 1:\n",
        "          result -= 1\n",
        "          break\n",
        "        time += 1\n",
        "        input = input.replace(chr(a+i),'*',time)\n",
        "        bef = aft\n",
        "\n",
        "print(result)\n"
      ],
      "execution_count": 0,
      "outputs": []
    }
  ]
}