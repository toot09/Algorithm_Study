{
  "nbformat": 4,
  "nbformat_minor": 0,
  "metadata": {
    "colab": {
      "name": "Untitled20.ipynb",
      "provenance": [],
      "authorship_tag": "ABX9TyP6//BMmfl1OdczWlVZ8ZYF",
      "include_colab_link": true
    },
    "kernelspec": {
      "name": "python3",
      "display_name": "Python 3"
    }
  },
  "cells": [
    {
      "cell_type": "markdown",
      "metadata": {
        "id": "view-in-github",
        "colab_type": "text"
      },
      "source": [
        "<a href=\"https://colab.research.google.com/github/toot09/Algorithm_Study/blob/master/1%EC%B0%A8%EC%9B%90%EB%B0%B0%EC%97%B4/4344_%ED%8F%89%EA%B7%A0%EC%9D%80%EB%84%98%EA%B2%A0%EC%A7%80.ipynb\" target=\"_parent\"><img src=\"https://colab.research.google.com/assets/colab-badge.svg\" alt=\"Open In Colab\"/></a>"
      ]
    },
    {
      "cell_type": "markdown",
      "metadata": {
        "id": "LVPEIsY3kjnr",
        "colab_type": "text"
      },
      "source": [
        "# 문제\n",
        "대학생 새내기들의 90%는 자신이 반에서 평균은 넘는다고 생각한다. 당신은 그들에게 슬픈 진실을 알려줘야 한다.\n",
        "\n",
        "# 입력\n",
        "첫째 줄에는 테스트 케이스의 개수 C가 주어진다.\n",
        "\n",
        "둘째 줄부터 각 테스트 케이스마다 학생의 수 N(1 ≤ N ≤ 1000, N은 정수)이 첫 수로 주어지고, 이어서 N명의 점수가 주어진다. 점수는 0보다 크거나 같고, 100보다 작거나 같은 정수이다.\n",
        "\n",
        "# 출력\n",
        "각 케이스마다 한 줄씩 평균을 넘는 학생들의 비율을 반올림하여 소수점 셋째 자리까지 출력한다."
      ]
    },
    {
      "cell_type": "code",
      "metadata": {
        "id": "_U9SqAmBA2XO",
        "colab_type": "code",
        "outputId": "7a48575b-f8c4-476e-e069-99cae1e0a32c",
        "colab": {
          "base_uri": "https://localhost:8080/",
          "height": 215
        }
      },
      "source": [
        "x = int(input())\n",
        "for _ in range(x):\n",
        "  lst = list(map(int,input().split()))\n",
        "  cnt = lst[0]\n",
        "  sum = 0\n",
        "  result = 0\n",
        "  for i in range(1,cnt+1):\n",
        "    sum += lst[i]\n",
        "  avg = sum/cnt\n",
        "  for i in range(1,cnt+1):\n",
        "    if lst[i] > avg:\n",
        "      result += 1\n",
        "  print(format(round(result/cnt*100,3),'.3f'),end='')\n",
        "  print('%')"
      ],
      "execution_count": 17,
      "outputs": [
        {
          "output_type": "stream",
          "text": [
            "5\n",
            "5 50 50 70 80 100\n",
            "40.000%\n",
            "7 100 95 90 80 70 60 50\n",
            "57.143%\n",
            "3 70 90 80\n",
            "33.333%\n",
            "3 70 90 81\n",
            "66.667%\n",
            "9 100 99 98 97 96 95 94 93 91\n",
            "55.556%\n"
          ],
          "name": "stdout"
        }
      ]
    }
  ]
}