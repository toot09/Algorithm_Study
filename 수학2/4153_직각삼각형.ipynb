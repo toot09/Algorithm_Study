{
  "nbformat": 4,
  "nbformat_minor": 0,
  "metadata": {
    "colab": {
      "name": "Untitled31.ipynb",
      "provenance": [],
      "authorship_tag": "ABX9TyOQ8Zoi8jVZWmgyoLY/Oa28",
      "include_colab_link": true
    },
    "kernelspec": {
      "name": "python3",
      "display_name": "Python 3"
    }
  },
  "cells": [
    {
      "cell_type": "markdown",
      "metadata": {
        "id": "view-in-github",
        "colab_type": "text"
      },
      "source": [
        "<a href=\"https://colab.research.google.com/github/toot09/Algorithm_Study/blob/master/%EC%88%98%ED%95%992/4153_%EC%A7%81%EA%B0%81%EC%82%BC%EA%B0%81%ED%98%95.ipynb\" target=\"_parent\"><img src=\"https://colab.research.google.com/assets/colab-badge.svg\" alt=\"Open In Colab\"/></a>"
      ]
    },
    {
      "cell_type": "markdown",
      "metadata": {
        "id": "fDRl8xebroF-",
        "colab_type": "text"
      },
      "source": [
        "# 문제\n",
        "과거 이집트인들은 각 변들의 길이가 3, 4, 5인 삼각형이 직각 삼각형인것을 알아냈다. 주어진 세변의 길이로 삼각형이 직각인지 아닌지 구분하시오.\n",
        "\n",
        "# 입력\n",
        "입력은 여러개의 테스트케이스로 주어지며 마지막줄에는 0 0 0이 입력된다. 각 테스트케이스는 모두 30,000보다 작은 양의 정수로 주어지며, 각 입력은 변의 길이를 의미한다.\n",
        "\n",
        "# 출력\n",
        "각 입력에 대해 직각 삼각형이 맞다면 \"right\", 아니라면 \"wrong\"을 출력한다."
      ]
    },
    {
      "cell_type": "code",
      "metadata": {
        "id": "zqpnnZ0rrRNU",
        "colab_type": "code",
        "outputId": "07881e60-5696-4a5e-af06-5fa30f06c60a",
        "colab": {
          "base_uri": "https://localhost:8080/",
          "height": 215
        }
      },
      "source": [
        "while True:\n",
        "  lst = list(map(int,input().split()))\n",
        "  lst.sort()\n",
        "  if lst[0] == 0 and lst[1] == 0 and lst[2] == 0:\n",
        "    break\n",
        "  if lst[0]**2 + lst[1]**2 == lst[2]**2:\n",
        "    print('right')\n",
        "  else:\n",
        "    print('wrong')"
      ],
      "execution_count": 15,
      "outputs": [
        {
          "output_type": "stream",
          "text": [
            "6 8 10\n",
            "right\n",
            "25 52 60\n",
            "wrong\n",
            "5 12 13\n",
            "right\n",
            "60 25 52\n",
            "wrong\n",
            "10 6 8\n",
            "right\n",
            "0 0 0\n"
          ],
          "name": "stdout"
        }
      ]
    }
  ]
}