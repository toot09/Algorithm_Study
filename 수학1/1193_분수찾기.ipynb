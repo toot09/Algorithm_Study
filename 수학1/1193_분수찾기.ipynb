{
  "nbformat": 4,
  "nbformat_minor": 0,
  "metadata": {
    "colab": {
      "name": "Untitled31.ipynb",
      "provenance": [],
      "authorship_tag": "ABX9TyO1ot3MUl8WFZdKb9thH4gj",
      "include_colab_link": true
    },
    "kernelspec": {
      "name": "python3",
      "display_name": "Python 3"
    }
  },
  "cells": [
    {
      "cell_type": "markdown",
      "metadata": {
        "id": "view-in-github",
        "colab_type": "text"
      },
      "source": [
        "<a href=\"https://colab.research.google.com/github/toot09/Algorithm_Study/blob/master/%EC%88%98%ED%95%991/1193_%EB%B6%84%EC%88%98%EC%B0%BE%EA%B8%B0.ipynb\" target=\"_parent\"><img src=\"https://colab.research.google.com/assets/colab-badge.svg\" alt=\"Open In Colab\"/></a>"
      ]
    },
    {
      "cell_type": "markdown",
      "metadata": {
        "id": "fDRl8xebroF-",
        "colab_type": "text"
      },
      "source": [
        "# 문제\n",
        "무한히 큰 배열에 다음과 같이 분수들이 적혀있다.\n",
        "\n",
        "* 1/1\t1/2\t1/3\t1/4\t1/5\t…\n",
        "* 2/1\t2/2\t2/3\t2/4\t…\t…\n",
        "* 3/1\t3/2\t3/3\t…\t…\t…\n",
        "* 4/1\t4/2\t…\t…\t…\t…\n",
        "* 5/1\t…\t…\t…\t…\t…\n",
        "* …\t…\t…\t…\t…\t…\n",
        "\n",
        "이와 같이 나열된 분수들을 1/1 -> 1/2 -> 2/1 -> 3/1 -> 2/2 -> … 과 같은 지그재그 순서로 차례대로 1번, 2번, 3번, 4번, 5번, … 분수라고 하자.\n",
        "\n",
        "X가 주어졌을 때, X번째 분수를 구하는 프로그램을 작성하시오.\n",
        "\n",
        "# 입력\n",
        "첫째 줄에 X(1 ≤ X ≤ 10,000,000)가 주어진다.\n",
        "\n",
        "# 출력\n",
        "첫째 줄에 분수를 출력한다."
      ]
    },
    {
      "cell_type": "markdown",
      "metadata": {
        "id": "E3jrSLL61XLG",
        "colab_type": "text"
      },
      "source": [
        "* 1  2   4  7 11 16\n",
        "* 3  5   8 12 17\n",
        "* 6  9  13 18\n",
        "* 10 14 19\n",
        "* 15 20\n",
        "* 21"
      ]
    },
    {
      "cell_type": "code",
      "metadata": {
        "id": "zqpnnZ0rrRNU",
        "colab_type": "code",
        "outputId": "7281df20-3ad3-42a7-d5a6-a389807542e8",
        "colab": {
          "base_uri": "https://localhost:8080/",
          "height": 359
        }
      },
      "source": [
        "a = int(input())\n",
        "x = 1\n",
        "x_ = 0\n",
        "break_x = False\n",
        "idx_x = 0\n",
        "while(x<5):\n",
        "  break_x = False\n",
        "  x += x_\n",
        "  x_ += 1\n",
        "  idx_x += 1\n",
        "  print('x :',x)\n",
        "  print('x_ :',x_)\n",
        "  chk = x\n",
        "  for i in range(x_):\n",
        "    if i > 0:\n",
        "      chk += x_+1+i\n",
        "    print('chk : ',chk)\n",
        "    if chk == a:\n",
        "      y = x_\n",
        "      break_x = True\n",
        "      break\n",
        "  if break_x:\n",
        "    break\n",
        "print('x : ',idx_x)\n",
        "print('y : ',y)\n"
      ],
      "execution_count": 11,
      "outputs": [
        {
          "output_type": "stream",
          "text": [
            "13\n",
            "x : 1\n",
            "x_ : 1\n",
            "chk :  1\n",
            "x : 2\n",
            "x_ : 2\n",
            "chk :  2\n",
            "chk :  6\n",
            "x : 4\n",
            "x_ : 3\n",
            "chk :  4\n",
            "chk :  9\n",
            "chk :  15\n",
            "x : 7\n",
            "x_ : 4\n",
            "chk :  7\n",
            "chk :  13\n",
            "x :  4\n",
            "y :  4\n"
          ],
          "name": "stdout"
        }
      ]
    },
    {
      "cell_type": "code",
      "metadata": {
        "id": "6-dsIKjw2tdU",
        "colab_type": "code",
        "colab": {
          "base_uri": "https://localhost:8080/",
          "height": 35
        },
        "outputId": "1d3e393b-e062-4226-ddc6-7e7689c6f957"
      },
      "source": [
        "break_xy = [False,False]\n",
        "break_xy[0]"
      ],
      "execution_count": 1,
      "outputs": [
        {
          "output_type": "execute_result",
          "data": {
            "text/plain": [
              "False"
            ]
          },
          "metadata": {
            "tags": []
          },
          "execution_count": 1
        }
      ]
    }
  ]
}