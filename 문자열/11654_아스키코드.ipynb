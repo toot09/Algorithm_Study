{
  "nbformat": 4,
  "nbformat_minor": 0,
  "metadata": {
    "colab": {
      "name": "Untitled22.ipynb",
      "provenance": [],
      "authorship_tag": "ABX9TyNFNuLccRCP8XT3OWNvcunj",
      "include_colab_link": true
    },
    "kernelspec": {
      "name": "python3",
      "display_name": "Python 3"
    }
  },
  "cells": [
    {
      "cell_type": "markdown",
      "metadata": {
        "id": "view-in-github",
        "colab_type": "text"
      },
      "source": [
        "<a href=\"https://colab.research.google.com/github/toot09/Algorithm_Study/blob/master/%EB%AC%B8%EC%9E%90%EC%97%B4/11654_%EC%95%84%EC%8A%A4%ED%82%A4%EC%BD%94%EB%93%9C.ipynb\" target=\"_parent\"><img src=\"https://colab.research.google.com/assets/colab-badge.svg\" alt=\"Open In Colab\"/></a>"
      ]
    },
    {
      "cell_type": "markdown",
      "metadata": {
        "id": "RhP8-A_BOfPD",
        "colab_type": "text"
      },
      "source": [
        "# 문제\n",
        "알파벳 소문자, 대문자, 숫자 0-9중 하나가 주어졌을 때, 주어진 글자의 아스키 코드값을 출력하는 프로그램을 작성하시오.\n",
        "\n",
        "# 입력\n",
        "알파벳 소문자, 대문자, 숫자 0-9 중 하나가 첫째 줄에 주어진다.\n",
        "\n",
        "# 출력\n",
        "입력으로 주어진 글자의 아스키 코드 값을 출력한다."
      ]
    },
    {
      "cell_type": "code",
      "metadata": {
        "id": "FIUuKle9LvQL",
        "colab_type": "code",
        "outputId": "dfebdd59-2937-4772-e8fb-67eb6feb09e9",
        "colab": {
          "base_uri": "https://localhost:8080/",
          "height": 53
        }
      },
      "source": [
        "i = str(input())\n",
        "print(ord(i))\n",
        "#ord(문자) -> 아스키코드값리턴\n",
        "#chr(아스키코드) -> 문자리턴"
      ],
      "execution_count": 29,
      "outputs": [
        {
          "output_type": "stream",
          "text": [
            "ㄹ\n",
            "12601\n"
          ],
          "name": "stdout"
        }
      ]
    }
  ]
}