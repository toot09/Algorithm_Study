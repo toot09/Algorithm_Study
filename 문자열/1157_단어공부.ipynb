{
  "nbformat": 4,
  "nbformat_minor": 0,
  "metadata": {
    "colab": {
      "name": "Untitled22.ipynb",
      "provenance": [],
      "authorship_tag": "ABX9TyOHN5c8DIvlEP77gUSU3xF4",
      "include_colab_link": true
    },
    "kernelspec": {
      "name": "python3",
      "display_name": "Python 3"
    }
  },
  "cells": [
    {
      "cell_type": "markdown",
      "metadata": {
        "id": "view-in-github",
        "colab_type": "text"
      },
      "source": [
        "<a href=\"https://colab.research.google.com/github/toot09/Algorithm_Study/blob/master/%EB%AC%B8%EC%9E%90%EC%97%B4/1157_%EB%8B%A8%EC%96%B4%EA%B3%B5%EB%B6%80.ipynb\" target=\"_parent\"><img src=\"https://colab.research.google.com/assets/colab-badge.svg\" alt=\"Open In Colab\"/></a>"
      ]
    },
    {
      "cell_type": "markdown",
      "metadata": {
        "id": "RhP8-A_BOfPD",
        "colab_type": "text"
      },
      "source": [
        "# 문제\n",
        "알파벳 대소문자로 된 단어가 주어지면, 이 단어에서 가장 많이 사용된 알파벳이 무엇인지 알아내는 프로그램을 작성하시오. 단, 대문자와 소문자를 구분하지 않는다.\n",
        "\n",
        "# 입력\n",
        "첫째 줄에 알파벳 대소문자로 이루어진 단어가 주어진다. 주어지는 단어의 길이는 1,000,000을 넘지 않는다.\n",
        "\n",
        "# 출력\n",
        "첫째 줄에 이 단어에서 가장 많이 사용된 알파벳을 대문자로 출력한다. 단, 가장 많이 사용된 알파벳이 여러 개 존재하는 경우에는 ?를 출력한다"
      ]
    },
    {
      "cell_type": "code",
      "metadata": {
        "id": "FIUuKle9LvQL",
        "colab_type": "code",
        "outputId": "3686819b-7963-4609-fabe-68ee7108f5af",
        "colab": {
          "base_uri": "https://localhost:8080/",
          "height": 53
        }
      },
      "source": [
        "s = input().upper()\n",
        "chk = True\n",
        "alph = 0\n",
        "max = 0\n",
        "for i in range(26):\n",
        "  cnt = s.count(chr(65+i))\n",
        "  if max == cnt and max > 0:\n",
        "    chk = False\n",
        "  elif max < cnt:\n",
        "    max = cnt\n",
        "    alph = chr(65+i)\n",
        "if(chk):\n",
        "  print(alph)\n",
        "else:\n",
        "  print('?')"
      ],
      "execution_count": 11,
      "outputs": [
        {
          "output_type": "stream",
          "text": [
            "paa\n",
            "A\n"
          ],
          "name": "stdout"
        }
      ]
    }
  ]
}