{
  "nbformat": 4,
  "nbformat_minor": 0,
  "metadata": {
    "colab": {
      "name": "Untitled15.ipynb",
      "provenance": [],
      "authorship_tag": "ABX9TyPar56pByBPbvBudUJynW5+",
      "include_colab_link": true
    },
    "kernelspec": {
      "name": "python3",
      "display_name": "Python 3"
    }
  },
  "cells": [
    {
      "cell_type": "markdown",
      "metadata": {
        "id": "view-in-github",
        "colab_type": "text"
      },
      "source": [
        "<a href=\"https://colab.research.google.com/github/toot09/Algorithm_Study/blob/master/%EC%82%BD%EC%9E%85%EC%A0%95%EB%A0%AC.ipynb\" target=\"_parent\"><img src=\"https://colab.research.google.com/assets/colab-badge.svg\" alt=\"Open In Colab\"/></a>"
      ]
    },
    {
      "cell_type": "markdown",
      "metadata": {
        "id": "bp05ecQifAY7",
        "colab_type": "text"
      },
      "source": [
        "# 삽입정렬"
      ]
    },
    {
      "cell_type": "code",
      "metadata": {
        "id": "13cjoSaWRnvv",
        "colab_type": "code",
        "colab": {
          "base_uri": "https://localhost:8080/",
          "height": 35
        },
        "outputId": "29570a05-0213-42f9-b617-25af1ed10eb6"
      },
      "source": [
        "a = [4,6,1,2,9,4,5,2,3,4]\n",
        "\n",
        "for i in range(len(a)):\n",
        "  idx = i\n",
        "  while idx >= 1 and a[idx-1] > a[idx]:\n",
        "    a[idx], a[idx-1] = a[idx-1], a[idx]\n",
        "    idx = idx - 1\n",
        "\n",
        "print(a)"
      ],
      "execution_count": 10,
      "outputs": [
        {
          "output_type": "stream",
          "text": [
            "[1, 2, 2, 3, 4, 4, 4, 5, 6, 9]\n"
          ],
          "name": "stdout"
        }
      ]
    },
    {
      "cell_type": "code",
      "metadata": {
        "id": "e0Z8er4FfVC6",
        "colab_type": "code",
        "colab": {
          "base_uri": "https://localhost:8080/",
          "height": 197
        },
        "outputId": "b87d3729-c605-4101-c831-0fd9b0555a4b"
      },
      "source": [
        "a = [4,6,1,2,9,4,5,2,3,4]\n",
        "\n",
        "def insertSort(a,n):\n",
        "  if n == 0:\n",
        "    return\n",
        "  else:\n",
        "    insertSort(a,n-1)\n",
        "    \n",
        "  while n >= 1 and a[n-1] > a[n]:\n",
        "    a[n-1], a[n] = a[n], a[n-1]\n",
        "    n = n-1\n",
        "\n",
        "insertSort(a,len(a)-1)\n",
        "print(a)"
      ],
      "execution_count": 14,
      "outputs": [
        {
          "output_type": "stream",
          "text": [
            "n :  1\n",
            "n :  2\n",
            "n :  3\n",
            "n :  4\n",
            "n :  5\n",
            "n :  6\n",
            "n :  7\n",
            "n :  8\n",
            "n :  9\n",
            "[1, 2, 2, 3, 4, 4, 4, 5, 6, 9]\n"
          ],
          "name": "stdout"
        }
      ]
    }
  ]
}