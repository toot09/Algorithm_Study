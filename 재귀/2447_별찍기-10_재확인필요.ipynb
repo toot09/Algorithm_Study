{
  "nbformat": 4,
  "nbformat_minor": 0,
  "metadata": {
    "colab": {
      "name": "백준테스트파일.ipynb",
      "provenance": [],
      "collapsed_sections": [],
      "authorship_tag": "ABX9TyN71z7sDZYJzGJf0u+3L3g+",
      "include_colab_link": true
    },
    "kernelspec": {
      "name": "python3",
      "display_name": "Python 3"
    }
  },
  "cells": [
    {
      "cell_type": "markdown",
      "metadata": {
        "id": "view-in-github",
        "colab_type": "text"
      },
      "source": [
        "<a href=\"https://colab.research.google.com/github/toot09/Algorithm_Study/blob/master/%EC%9E%AC%EA%B7%80/2447_%EB%B3%84%EC%B0%8D%EA%B8%B0-10_%EC%9E%AC%ED%99%95%EC%9D%B8%ED%95%84%EC%9A%94.ipynb\" target=\"_parent\"><img src=\"https://colab.research.google.com/assets/colab-badge.svg\" alt=\"Open In Colab\"/></a>"
      ]
    },
    {
      "cell_type": "markdown",
      "metadata": {
        "id": "0vxcyhbFQ4oN",
        "colab_type": "text"
      },
      "source": [
        "# 문제\n",
        "재귀적인 패턴으로 별을 찍어 보자. N이 3의 거듭제곱(3, 9, 27, ...)이라고 할 때, 크기 N의 패턴은 N×N 정사각형 모양이다.\n",
        "\n",
        "크기 3의 패턴은 가운데에 공백이 있고, 가운데를 제외한 모든 칸에 별이 하나씩 있는 패턴이다.\n",
        "\n",
        "***\n",
        "* *\n",
        "***\n",
        "N이 3보다 클 경우, 크기 N의 패턴은 공백으로 채워진 가운데의 (N/3)×(N/3) 정사각형을 크기 N/3의 패턴으로 둘러싼 형태이다. 예를 들어 크기 27의 패턴은 예제 출력 1과 같다.\n",
        "\n",
        "# 입력\n",
        "첫째 줄에 N이 주어진다. N은 3의 거듭제곱이다. 즉 어떤 정수 k에 대해 N=3k이며, 이때 1 ≤ k < 8이다.\n",
        "\n",
        "# 출력\n",
        "첫째 줄부터 N번째 줄까지 별을 출력한다."
      ]
    },
    {
      "cell_type": "code",
      "metadata": {
        "id": "ZdgDcJlt29HN",
        "colab_type": "code",
        "outputId": "350c10d6-cb35-4401-8b5d-e0287092cab9",
        "colab": {
          "base_uri": "https://localhost:8080/",
          "height": 88
        }
      },
      "source": [
        "n = int(input())\n",
        "list = [['*'] * n for i in range(n)] #출력할 배열 초기화 모두 *로 채워주고 빈칸이 들어갈부분은 밑에서바꿔준다.\n",
        " \n",
        "def starprint(n,list):  #\n",
        "    if n<3:     #1일때는 바로 내보내어 *이 출력하게만든다.\n",
        "        return\n",
        " \n",
        "    if n == 3:      #3일때 빈칸은 직접 채워준다.\n",
        "       list[1][1] = \" \"\n",
        " \n",
        "    else:               \n",
        "        starprint(n//3,list)    #재귀를 통해 이전리스트를 완성시키고 넘겨준다.\n",
        "        for i in range(n // 3): #빈칸들이 일정한 패턴으로 늘어나는것을 이용한다.\n",
        "            for j in range(n // 3):\n",
        "                if list[i][j] == \" \":           #하나의 빈칸에서 파생되는 빈칸들\n",
        "                    list[i][j+n//3]=\" \"\n",
        "                    list[i][j + 2*n//3] = \" \"\n",
        "                    list[i+n//3][j] = \" \"\n",
        "                    list[i+n//3][j+2*n//3]=\" \"\n",
        "                    list[i+2*n//3][j]=\" \"\n",
        "                    list[i+2*n//3][j+n//3]=\" \"\n",
        "                    list[i+2*n//3][j+2*n//3]=\" \"\n",
        "        for i in range(n):      #가운데 부분은 직접 비워줬다.\n",
        "            for j in range(n):\n",
        "                if n//3<=i<n//3*2 and n//3<=j<n//3*2:\n",
        "                    list[i][j]=\" \"\n",
        " \n",
        "        return list\n",
        " \n",
        "starprint(n,list)           #함수실행\n",
        "for i in range(n):\n",
        "    for j in range(n):\n",
        "        print(list[i][j], end=\"\")\n",
        "    print()\n"
      ],
      "execution_count": 9,
      "outputs": [
        {
          "output_type": "stream",
          "text": [
            "3\n",
            "***\n",
            "* *\n",
            "***\n"
          ],
          "name": "stdout"
        }
      ]
    }
  ]
}