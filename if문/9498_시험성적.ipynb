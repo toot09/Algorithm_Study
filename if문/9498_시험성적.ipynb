{
  "nbformat": 4,
  "nbformat_minor": 0,
  "metadata": {
    "colab": {
      "name": "Untitled13.ipynb",
      "provenance": [],
      "collapsed_sections": [],
      "authorship_tag": "ABX9TyPdqmu2FNrWbli4cmWoZBsV",
      "include_colab_link": true
    },
    "kernelspec": {
      "name": "python3",
      "display_name": "Python 3"
    }
  },
  "cells": [
    {
      "cell_type": "markdown",
      "metadata": {
        "id": "view-in-github",
        "colab_type": "text"
      },
      "source": [
        "<a href=\"https://colab.research.google.com/github/toot09/Algorithm_Study/blob/master/9498_%EC%8B%9C%ED%97%98%EC%84%B1%EC%A0%95.ipynb\" target=\"_parent\"><img src=\"https://colab.research.google.com/assets/colab-badge.svg\" alt=\"Open In Colab\"/></a>"
      ]
    },
    {
      "cell_type": "markdown",
      "metadata": {
        "id": "DwUfvoGkQu12",
        "colab_type": "text"
      },
      "source": [
        "# 문제\n",
        "\n",
        "시험 점수를 입력받아 90 ~ 100점은 A, 80 ~ 89점은 B, 70 ~ 79점은 C, 60 ~ 69점은 D, 나머지 점수는 F를 출력하는 프로그램을 작성하시오.\n",
        "\n",
        "# 입력\n",
        "\n",
        "첫째 줄에 시험 점수가 주어진다. 시험 점수는 0보다 크거나 같고, 100보다 작거나 같은 정수이다.\n",
        "\n",
        "# 출력\n",
        "\n",
        "시험 성적을 출력한다."
      ]
    },
    {
      "cell_type": "code",
      "metadata": {
        "id": "nBWlwscVDq_x",
        "colab_type": "code",
        "colab": {
          "base_uri": "https://localhost:8080/",
          "height": 53
        },
        "outputId": "d86abb41-541a-4b51-d54b-8f1b9ed4e3b9"
      },
      "source": [
        "x = int(input())\n",
        "\n",
        "if(x>=90):\n",
        "  print('A')\n",
        "elif(x>=80):\n",
        "  print('B')\n",
        "elif(x>=70):\n",
        "  print('C')\n",
        "elif(x>=60):\n",
        "  print('D')\n",
        "else:\n",
        "  print('F')"
      ],
      "execution_count": 48,
      "outputs": [
        {
          "output_type": "stream",
          "text": [
            "78\n",
            "C\n"
          ],
          "name": "stdout"
        }
      ]
    },
    {
      "cell_type": "code",
      "metadata": {
        "id": "m_YMykxyfknz",
        "colab_type": "code",
        "colab": {}
      },
      "source": [
        ""
      ],
      "execution_count": 0,
      "outputs": []
    }
  ]
}
