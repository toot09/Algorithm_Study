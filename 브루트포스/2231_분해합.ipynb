{
  "nbformat": 4,
  "nbformat_minor": 0,
  "metadata": {
    "colab": {
      "name": "백준테스트파일.ipynb",
      "provenance": [],
      "collapsed_sections": [],
      "authorship_tag": "ABX9TyOEiOu154M33uyyAlQYYiBQ",
      "include_colab_link": true
    },
    "kernelspec": {
      "name": "python3",
      "display_name": "Python 3"
    }
  },
  "cells": [
    {
      "cell_type": "markdown",
      "metadata": {
        "id": "view-in-github",
        "colab_type": "text"
      },
      "source": [
        "<a href=\"https://colab.research.google.com/github/toot09/Algorithm_Study/blob/master/%EB%B8%8C%EB%A3%A8%ED%8A%B8%ED%8F%AC%EC%8A%A4/2231_%EB%B6%84%ED%95%B4%ED%95%A9.ipynb\" target=\"_parent\"><img src=\"https://colab.research.google.com/assets/colab-badge.svg\" alt=\"Open In Colab\"/></a>"
      ]
    },
    {
      "cell_type": "markdown",
      "metadata": {
        "id": "0vxcyhbFQ4oN",
        "colab_type": "text"
      },
      "source": [
        "# 문제\n",
        "어떤 자연수 N이 있을 때, 그 자연수 N의 분해합은 N과 N을 이루는 각 자리수의 합을 의미한다. 어떤 자연수 M의 분해합이 N인 경우, M을 N의 생성자라 한다. 예를 들어, 245의 분해합은 256(=245+2+4+5)이 된다. 따라서 245는 256의 생성자가 된다. 물론, 어떤 자연수의 경우에는 생성자가 없을 수도 있다. 반대로, 생성자가 여러 개인 자연수도 있을 수 있다.\n",
        "\n",
        "자연수 N이 주어졌을 때, N의 가장 작은 생성자를 구해내는 프로그램을 작성하시오.\n",
        "\n",
        "# 입력\n",
        "첫째 줄에 자연수 N(1 ≤ N ≤ 1,000,000)이 주어진다.\n",
        "\n",
        "# 출력\n",
        "첫째 줄에 답을 출력한다. 생성자가 없는 경우에는 0을 출력한다."
      ]
    },
    {
      "cell_type": "code",
      "metadata": {
        "id": "2GwC0LASkdho",
        "colab_type": "code",
        "outputId": "88e8c346-6784-4ee7-c6ba-0a4d2ce812ce",
        "colab": {
          "base_uri": "https://localhost:8080/",
          "height": 53
        }
      },
      "source": [
        "N = int(input())\n",
        "result = 0\n",
        "start = N\n",
        "if N >= 9:\n",
        "  start = N - len(str(N))*9\n",
        "#시작할 수 있는 가장 작은 값은 생성자가 같은 자리수일때이기 때문에\n",
        "#각 자리수에 9가 최대값. 그래서 입력값에 9곱하기 자리수를 뺀 값이 최소 시작값이다.\n",
        "start = N - len(str(N))*9\n",
        "for i in range(start,N+1):\n",
        "  chk = 0\n",
        "  for j in str(i):\n",
        "    chk += int(j)\n",
        "  if N == chk+i:\n",
        "    result = i\n",
        "    break\n",
        "print(result)"
      ],
      "execution_count": 38,
      "outputs": [
        {
          "output_type": "stream",
          "text": [
            "1325\n",
            "1315\n"
          ],
          "name": "stdout"
        }
      ]
    }
  ]
}