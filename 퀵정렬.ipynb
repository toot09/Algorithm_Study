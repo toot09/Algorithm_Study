{
  "nbformat": 4,
  "nbformat_minor": 0,
  "metadata": {
    "colab": {
      "name": "Untitled17.ipynb",
      "provenance": [],
      "authorship_tag": "ABX9TyNqPLLdvWt6JhwRjk0VabE+",
      "include_colab_link": true
    },
    "kernelspec": {
      "name": "python3",
      "display_name": "Python 3"
    }
  },
  "cells": [
    {
      "cell_type": "markdown",
      "metadata": {
        "id": "view-in-github",
        "colab_type": "text"
      },
      "source": [
        "<a href=\"https://colab.research.google.com/github/toot09/Algorithm_Study/blob/master/%ED%80%B5%EC%A0%95%EB%A0%AC.ipynb\" target=\"_parent\"><img src=\"https://colab.research.google.com/assets/colab-badge.svg\" alt=\"Open In Colab\"/></a>"
      ]
    },
    {
      "cell_type": "code",
      "metadata": {
        "id": "T9jCC1XI9iT5",
        "colab_type": "code",
        "colab": {
          "base_uri": "https://localhost:8080/",
          "height": 53
        },
        "outputId": "c9473ed9-cdba-41be-8cf5-fbc6c010243f"
      },
      "source": [
        "\n",
        "def quickSort(a,start,end):\n",
        "  if(start > end):\n",
        "    return\n",
        "  i = start + 1\n",
        "  j = end\n",
        "  key = start\n",
        "\n",
        "  while(i<=j):\n",
        "    while(a[i] <= a[key] and i < end):\n",
        "      i = i+1\n",
        "    while(a[j] >= a[key] and j > start):\n",
        "      j = j-1\n",
        "    if(i>=j):\n",
        "      a[j], a[key] = a[key], a[j]\n",
        "    else:\n",
        "      a[j], a[i] = a[i], a[j]\n",
        "    \n",
        "    quickSort(a,start,j-1)\n",
        "    quickSort(a,j+1,end)\n",
        "\n",
        "\n",
        "a = [13,51,23,5,1,3,25,234,123,1,41,23,2,1]\n",
        "print(a)\n",
        "quickSort(a,0,len(a)-1)\n",
        "print(a)\n"
      ],
      "execution_count": 88,
      "outputs": [
        {
          "output_type": "stream",
          "text": [
            "[13, 51, 23, 5, 1, 3, 25, 234, 123, 1, 41, 23, 2, 1]\n",
            "[1, 1, 1, 2, 3, 5, 13, 23, 23, 25, 41, 51, 123, 234]\n"
          ],
          "name": "stdout"
        }
      ]
    }
  ]
}