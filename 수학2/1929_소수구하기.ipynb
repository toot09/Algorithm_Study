{
  "nbformat": 4,
  "nbformat_minor": 0,
  "metadata": {
    "colab": {
      "name": "백준테스트파일.ipynb",
      "provenance": [],
      "collapsed_sections": [],
      "authorship_tag": "ABX9TyNkfoqVkgSNepbJwOiSkEJk",
      "include_colab_link": true
    },
    "kernelspec": {
      "name": "python3",
      "display_name": "Python 3"
    }
  },
  "cells": [
    {
      "cell_type": "markdown",
      "metadata": {
        "id": "view-in-github",
        "colab_type": "text"
      },
      "source": [
        "<a href=\"https://colab.research.google.com/github/toot09/Algorithm_Study/blob/master/%EC%88%98%ED%95%992/1929_%EC%86%8C%EC%88%98%EA%B5%AC%ED%95%98%EA%B8%B0.ipynb\" target=\"_parent\"><img src=\"https://colab.research.google.com/assets/colab-badge.svg\" alt=\"Open In Colab\"/></a>"
      ]
    },
    {
      "cell_type": "markdown",
      "metadata": {
        "id": "0vxcyhbFQ4oN",
        "colab_type": "text"
      },
      "source": [
        "# 문제\n",
        "M이상 N이하의 소수를 모두 출력하는 프로그램을 작성하시오.\n",
        "\n",
        "# 입력\n",
        "첫째 줄에 자연수 M과 N이 빈 칸을 사이에 두고 주어진다. (1 ≤ M ≤ N ≤ 1,000,000)\n",
        "\n",
        "# 출력\n",
        "한 줄에 하나씩, 증가하는 순서대로 소수를 출력한다."
      ]
    },
    {
      "cell_type": "code",
      "metadata": {
        "id": "lQqi-lBDT4LU",
        "colab_type": "code",
        "colab": {
          "base_uri": "https://localhost:8080/",
          "height": 107
        },
        "outputId": "43a7cfea-58c8-4c4e-8101-f52f05057916"
      },
      "source": [
        "def primeChk(n):\n",
        "  if n == 1:\n",
        "    return False\n",
        "  else:\n",
        "    # n**1/2 시간초과\n",
        "    # n**0.5 정답 !!!! 분수보다 소수가 빠른가보다\n",
        "    for i in range(2,int(n**0.5)+1):\n",
        "      if n%i == 0:\n",
        "        return False\n",
        "    return True\n",
        "\n",
        "M, N = map(int,input().split())\n",
        "for i in range(M,N+1):\n",
        "  if primeChk(i):\n",
        "    print(i)"
      ],
      "execution_count": 22,
      "outputs": [
        {
          "output_type": "stream",
          "text": [
            "1 10\n",
            "2\n",
            "3\n",
            "5\n",
            "7\n"
          ],
          "name": "stdout"
        }
      ]
    }
  ]
}